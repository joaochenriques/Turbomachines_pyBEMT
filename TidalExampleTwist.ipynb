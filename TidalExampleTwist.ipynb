{
  "nbformat": 4,
  "nbformat_minor": 0,
  "metadata": {
    "colab": {
      "provenance": [],
      "authorship_tag": "ABX9TyNsQ+chUFXt02dlQkhoj2bB",
      "include_colab_link": true
    },
    "kernelspec": {
      "name": "python3",
      "display_name": "Python 3"
    },
    "language_info": {
      "name": "python"
    }
  },
  "cells": [
    {
      "cell_type": "markdown",
      "metadata": {
        "id": "view-in-github",
        "colab_type": "text"
      },
      "source": [
        "<a href=\"https://colab.research.google.com/github/joaochenriques/Turbomachines_pyBEMT/blob/main/TidalExampleTwist.ipynb\" target=\"_parent\"><img src=\"https://colab.research.google.com/assets/colab-badge.svg\" alt=\"Open In Colab\"/></a>"
      ]
    },
    {
      "cell_type": "code",
      "execution_count": 3,
      "metadata": {
        "colab": {
          "base_uri": "https://localhost:8080/"
        },
        "id": "GNRkB4aw5ryg",
        "outputId": "1baea597-3328-4146-fa82-e8461253e1ab"
      },
      "outputs": [
        {
          "output_type": "stream",
          "name": "stdout",
          "text": [
            "Looking in indexes: https://pypi.org/simple, https://us-python.pkg.dev/colab-wheels/public/simple/\n",
            "Collecting git+https://github.com/kegiljarhus/pybemt.git\n",
            "  Cloning https://github.com/kegiljarhus/pybemt.git to /tmp/pip-req-build-kt8d2sut\n",
            "  Running command git clone -q https://github.com/kegiljarhus/pybemt.git /tmp/pip-req-build-kt8d2sut\n",
            "Building wheels for collected packages: pybemt\n",
            "  Building wheel for pybemt (setup.py) ... \u001b[?25l\u001b[?25hdone\n",
            "  Created wheel for pybemt: filename=pybemt-0.1.0-py3-none-any.whl size=27915 sha256=a1bb3377f0b7b51ec2cc834c826393eed0b9ec19e15807e868327fd6fb26ff09\n",
            "  Stored in directory: /tmp/pip-ephem-wheel-cache-baxzex3q/wheels/1b/1f/d5/fe14d42d6aa7d8da937e514e51afa61c3093e395de3eba06e2\n",
            "Successfully built pybemt\n",
            "Installing collected packages: pybemt\n",
            "Successfully installed pybemt-0.1.0\n"
          ]
        }
      ],
      "source": [
        "!pip install git+https://github.com/kegiljarhus/pybemt.git "
      ]
    },
    {
      "cell_type": "code",
      "source": [
        "!curl -O https://raw.githubusercontent.com/kegiljarhus/pyBEMT/master/examples/tidal.ini"
      ],
      "metadata": {
        "colab": {
          "base_uri": "https://localhost:8080/"
        },
        "id": "QRdwbpDy9llo",
        "outputId": "91ef4530-0250-440a-e5c6-a3d1a259d780"
      },
      "execution_count": 9,
      "outputs": [
        {
          "output_type": "stream",
          "name": "stdout",
          "text": [
            "  % Total    % Received % Xferd  Average Speed   Time    Time     Time  Current\n",
            "                                 Dload  Upload   Total   Spent    Left  Speed\n",
            "\r  0     0    0     0    0     0      0      0 --:--:-- --:--:-- --:--:--     0\r100   702  100   702    0     0   7468      0 --:--:-- --:--:-- --:--:--  7468\n"
          ]
        }
      ]
    },
    {
      "cell_type": "code",
      "source": [
        "\"\"\"\n",
        "Example on how to use the twist variable to modify the pitch angle globally.\n",
        "\"\"\"\n",
        "\n",
        "import matplotlib.pyplot as pl\n",
        "from pybemt.solver import Solver\n",
        "\n",
        "# Run sweep of tip speed ratio with the BEMT method\n",
        "s = Solver('tidal.ini')\n",
        "df, section_df = s.run_sweep('twist', 9, -2, 2)\n",
        "\n",
        "# Plot results\n",
        "df.plot(x='twist', y='CT', style='C0-o', linewidth=2) \n",
        "pl.legend(loc='upper left')\n",
        "ax = pl.gca()\n",
        "\n",
        "ax2 = ax.twinx()\n",
        "df.plot(x='twist', y='CP', style='C1-o', linewidth=2, ax = ax2) \n",
        "ax2.axis((-2.5,2.5,0.46,0.48))\n",
        "pl.legend(loc='upper right')\n",
        "ax.set_xlabel('Twist angle')\n",
        "ax.set_ylabel('Thrust coefficient')\n",
        "ax2.set_ylabel('Power coefficient')\n",
        "pl.tight_layout()"
      ],
      "metadata": {
        "colab": {
          "base_uri": "https://localhost:8080/",
          "height": 922
        },
        "id": "3290Rj555uit",
        "outputId": "8c6f3254-94aa-44f8-8e57-d7a126bd2ca9"
      },
      "execution_count": 11,
      "outputs": [
        {
          "output_type": "stream",
          "name": "stdout",
          "text": [
            "--- Results ---\n",
            "Trust (N):\t 626.6899038427492\n",
            "Torque (Nm):\t 26.175324429263835\n",
            "Power (W):\t 603.0361841702346\n",
            "--- Results ---\n",
            "Trust (N):\t 616.1685236833506\n",
            "Torque (Nm):\t 26.477084621707778\n",
            "Power (W):\t 609.9882399309047\n",
            "--- Results ---\n",
            "Trust (N):\t 604.9893979394311\n",
            "Torque (Nm):\t 26.679253908419632\n",
            "Power (W):\t 614.6458859342846\n",
            "--- Results ---\n",
            "Trust (N):\t 593.1401601192019\n",
            "Torque (Nm):\t 26.791808440767962\n",
            "Power (W):\t 617.2389562086121\n",
            "--- Results ---\n",
            "Trust (N):\t 580.4740676157073\n",
            "Torque (Nm):\t 26.817514648756923\n",
            "Power (W):\t 617.831184725857\n",
            "--- Results ---\n",
            "Trust (N):\t 566.9699573641603\n",
            "Torque (Nm):\t 26.75492657014532\n",
            "Power (W):\t 616.3892589074213\n",
            "--- Results ---\n",
            "Trust (N):\t 552.6067934954681\n",
            "Torque (Nm):\t 26.604767167953\n",
            "Power (W):\t 612.9298346255925\n",
            "--- Results ---\n",
            "Trust (N):\t 537.5360653244248\n",
            "Torque (Nm):\t 26.37193896741215\n",
            "Power (W):\t 607.565857953563\n",
            "--- Results ---\n",
            "Trust (N):\t 521.8959271747478\n",
            "Torque (Nm):\t 26.067913375627768\n",
            "Power (W):\t 600.5616111387736\n"
          ]
        },
        {
          "output_type": "display_data",
          "data": {
            "text/plain": [
              "<Figure size 432x288 with 2 Axes>"
            ],
            "image/png": "[encoded data removed]"
          },
          "metadata": {
            "needs_background": "light"
          }
        }
      ]
    },
    {
      "cell_type": "code",
      "source": [],
      "metadata": {
        "id": "akP6Ow9U6rYb"
      },
      "execution_count": null,
      "outputs": []
    }
  ]
}
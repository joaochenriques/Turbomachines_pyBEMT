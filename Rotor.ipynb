{
  "nbformat": 4,
  "nbformat_minor": 0,
  "metadata": {
    "colab": {
      "provenance": [],
      "authorship_tag": "ABX9TyMwlbzBvYF6GU805B51SSPe",
      "include_colab_link": true
    },
    "kernelspec": {
      "name": "python3",
      "display_name": "Python 3"
    },
    "language_info": {
      "name": "python"
    }
  },
  "cells": [
    {
      "cell_type": "markdown",
      "metadata": {
        "id": "view-in-github",
        "colab_type": "text"
      },
      "source": [
        "<a href=\"https://colab.research.google.com/github/joaochenriques/Turbomachines_pyBEMT/blob/main/Rotor.ipynb\" target=\"_parent\"><img src=\"https://colab.research.google.com/assets/colab-badge.svg\" alt=\"Open In Colab\"/></a>"
      ]
    },
    {
      "cell_type": "code",
      "source": [
        "import os\n",
        "import pathlib\n",
        "\n",
        "if not pathlib.Path(\"mpl_utils.py\").exists():\n",
        "  os.system( \"curl -O https://raw.githubusercontent.com/joaochenriques/ipynb_libs/main/mpl_utils.py\" )\n",
        "\n",
        "import mpl_utils as mut\n",
        "mut.config_plots()\n",
        "\n",
        "%config InlineBackend.figure_formats = ['svg']"
      ],
      "metadata": {
        "id": "w7T7K6b9-7Is"
      },
      "execution_count": 1,
      "outputs": []
    },
    {
      "cell_type": "code",
      "execution_count": 2,
      "metadata": {
        "colab": {
          "base_uri": "https://localhost:8080/"
        },
        "id": "GNRkB4aw5ryg",
        "outputId": "9fcf57ef-7043-430d-db99-ad290be24570"
      },
      "outputs": [
        {
          "output_type": "stream",
          "name": "stdout",
          "text": [
            "Looking in indexes: https://pypi.org/simple, https://us-python.pkg.dev/colab-wheels/public/simple/\n",
            "Collecting git+https://github.com/kegiljarhus/pybemt.git\n",
            "  Cloning https://github.com/kegiljarhus/pybemt.git to /tmp/pip-req-build-yodik81w\n",
            "  Running command git clone -q https://github.com/kegiljarhus/pybemt.git /tmp/pip-req-build-yodik81w\n",
            "Building wheels for collected packages: pybemt\n",
            "  Building wheel for pybemt (setup.py) ... \u001b[?25l\u001b[?25hdone\n",
            "  Created wheel for pybemt: filename=pybemt-0.1.0-py3-none-any.whl size=27915 sha256=db4db6cf3d7de6c6e13c6887e3e0e621a5b03beeac82fd1368de59c5413c4014\n",
            "  Stored in directory: /tmp/pip-ephem-wheel-cache-lgqemb6u/wheels/1b/1f/d5/fe14d42d6aa7d8da937e514e51afa61c3093e395de3eba06e2\n",
            "Successfully built pybemt\n",
            "Installing collected packages: pybemt\n",
            "Successfully installed pybemt-0.1.0\n"
          ]
        }
      ],
      "source": [
        "!pip install git+https://github.com/kegiljarhus/pybemt.git "
      ]
    },
    {
      "cell_type": "code",
      "source": [
        "!curl -O https://raw.githubusercontent.com/joaochenriques/Turbomachines_pyBEMT/main/test_config.ini"
      ],
      "metadata": {
        "colab": {
          "base_uri": "https://localhost:8080/"
        },
        "id": "QRdwbpDy9llo",
        "outputId": "e56d9296-caae-482f-a042-a0bc7b1c59e8"
      },
      "execution_count": 7,
      "outputs": [
        {
          "output_type": "stream",
          "name": "stdout",
          "text": [
            "  % Total    % Received % Xferd  Average Speed   Time    Time     Time  Current\n",
            "                                 Dload  Upload   Total   Spent    Left  Speed\n",
            "100   402  100   402    0     0    452      0 --:--:-- --:--:-- --:--:--   452\n"
          ]
        }
      ]
    },
    {
      "cell_type": "code",
      "source": [
        "from pybemt.solver import Solver\n",
        "import matplotlib.pyplot as pl"
      ],
      "metadata": {
        "id": "3290Rj555uit"
      },
      "execution_count": 21,
      "outputs": []
    },
    {
      "cell_type": "code",
      "source": [
        "solver = Solver('test_config.ini')\n",
        "T, Q, P, df = solver.run()\n",
        "T, Q, P"
      ],
      "metadata": {
        "colab": {
          "base_uri": "https://localhost:8080/"
        },
        "id": "HEENYpbWEC5P",
        "outputId": "eaf5f458-9134-459d-d4f3-57cc6042f29e"
      },
      "execution_count": 36,
      "outputs": [
        {
          "output_type": "stream",
          "name": "stdout",
          "text": [
            "--- Results ---\n",
            "Trust (N):\t 18.165594716317923\n",
            "Torque (Nm):\t 0.6331256667274107\n",
            "Power (W):\t 132.60152955933154\n"
          ]
        },
        {
          "output_type": "execute_result",
          "data": {
            "text/plain": [
              "(18.165594716317923, 0.6331256667274107, 132.60152955933154)"
            ]
          },
          "metadata": {},
          "execution_count": 36
        }
      ]
    },
    {
      "cell_type": "code",
      "source": [
        "df"
      ],
      "metadata": {
        "colab": {
          "base_uri": "https://localhost:8080/",
          "height": 344
        },
        "id": "CIdifqKXG9tb",
        "outputId": "40d28851-ad86-4267-a0d6-1b646574a1d4"
      },
      "execution_count": 37,
      "outputs": [
        {
          "output_type": "execute_result",
          "data": {
            "text/plain": [
              "    radius  chord     pitch        Cl        Cd        dT        dQ         F  \\\n",
              "0  0.07112  0.056  0.342085  0.808143  0.021040  0.399394  0.008624  0.927706   \n",
              "1  0.10668  0.070  0.312414  0.897390  0.020697  1.258291  0.036530  0.968018   \n",
              "2  0.14224  0.070  0.251327  0.814936  0.019957  2.081059  0.066543  0.988724   \n",
              "3  0.17780  0.065  0.202458  0.742332  0.020464  2.794167  0.094739  0.996192   \n",
              "4  0.21336  0.058  0.169297  0.701230  0.020922  3.426225  0.121371  0.997999   \n",
              "5  0.24892  0.050  0.146608  0.685138  0.021118  3.956433  0.144286  0.996547   \n",
              "6  0.28448  0.043  0.125664  0.599940  0.022094  3.913085  0.146419  0.991552   \n",
              "7  0.30000  0.010  0.000000  0.197457  0.022090  0.336941  0.014614  0.999980   \n",
              "\n",
              "          a        ap             Re       AoA  \n",
              "0  2.862794  0.058352   55139.041357  4.202486  \n",
              "1  4.244372  0.051696  103408.615283  3.997758  \n",
              "2  4.723226  0.035642  138779.603685  3.133321  \n",
              "3  4.891512  0.025049  161803.583572  2.382630  \n",
              "4  4.944671  0.018372  173762.533053  1.982192  \n",
              "5  4.920939  0.013829  175129.470090  1.830482  \n",
              "6  4.558874  0.010064  172410.498017  1.815926  \n",
              "7  1.017167  0.002340   42446.755244 -1.843115  "
            ],
            "text/html": [
              "\n",
              "  <div id=\"df-454f007d-e785-4827-ae3d-842312d94349\">\n",
              "    <div class=\"colab-df-container\">\n",
              "      <div>\n",
              "<style scoped>\n",
              "    .dataframe tbody tr th:only-of-type {\n",
              "        vertical-align: middle;\n",
              "    }\n",
              "\n",
              "    .dataframe tbody tr th {\n",
              "        vertical-align: top;\n",
              "    }\n",
              "\n",
              "    .dataframe thead th {\n",
              "        text-align: right;\n",
              "    }\n",
              "</style>\n",
              "<table border=\"1\" class=\"dataframe\">\n",
              "  <thead>\n",
              "    <tr style=\"text-align: right;\">\n",
              "      <th></th>\n",
              "      <th>radius</th>\n",
              "      <th>chord</th>\n",
              "      <th>pitch</th>\n",
              "      <th>Cl</th>\n",
              "      <th>Cd</th>\n",
              "      <th>dT</th>\n",
              "      <th>dQ</th>\n",
              "      <th>F</th>\n",
              "      <th>a</th>\n",
              "      <th>ap</th>\n",
              "      <th>Re</th>\n",
              "      <th>AoA</th>\n",
              "    </tr>\n",
              "  </thead>\n",
              "  <tbody>\n",
              "    <tr>\n",
              "      <th>0</th>\n",
              "      <td>0.07112</td>\n",
              "      <td>0.056</td>\n",
              "      <td>0.342085</td>\n",
              "      <td>0.808143</td>\n",
              "      <td>0.021040</td>\n",
              "      <td>0.399394</td>\n",
              "      <td>0.008624</td>\n",
              "      <td>0.927706</td>\n",
              "      <td>2.862794</td>\n",
              "      <td>0.058352</td>\n",
              "      <td>55139.041357</td>\n",
              "      <td>4.202486</td>\n",
              "    </tr>\n",
              "    <tr>\n",
              "      <th>1</th>\n",
              "      <td>0.10668</td>\n",
              "      <td>0.070</td>\n",
              "      <td>0.312414</td>\n",
              "      <td>0.897390</td>\n",
              "      <td>0.020697</td>\n",
              "      <td>1.258291</td>\n",
              "      <td>0.036530</td>\n",
              "      <td>0.968018</td>\n",
              "      <td>4.244372</td>\n",
              "      <td>0.051696</td>\n",
              "      <td>103408.615283</td>\n",
              "      <td>3.997758</td>\n",
              "    </tr>\n",
              "    <tr>\n",
              "      <th>2</th>\n",
              "      <td>0.14224</td>\n",
              "      <td>0.070</td>\n",
              "      <td>0.251327</td>\n",
              "      <td>0.814936</td>\n",
              "      <td>0.019957</td>\n",
              "      <td>2.081059</td>\n",
              "      <td>0.066543</td>\n",
              "      <td>0.988724</td>\n",
              "      <td>4.723226</td>\n",
              "      <td>0.035642</td>\n",
              "      <td>138779.603685</td>\n",
              "      <td>3.133321</td>\n",
              "    </tr>\n",
              "    <tr>\n",
              "      <th>3</th>\n",
              "      <td>0.17780</td>\n",
              "      <td>0.065</td>\n",
              "      <td>0.202458</td>\n",
              "      <td>0.742332</td>\n",
              "      <td>0.020464</td>\n",
              "      <td>2.794167</td>\n",
              "      <td>0.094739</td>\n",
              "      <td>0.996192</td>\n",
              "      <td>4.891512</td>\n",
              "      <td>0.025049</td>\n",
              "      <td>161803.583572</td>\n",
              "      <td>2.382630</td>\n",
              "    </tr>\n",
              "    <tr>\n",
              "      <th>4</th>\n",
              "      <td>0.21336</td>\n",
              "      <td>0.058</td>\n",
              "      <td>0.169297</td>\n",
              "      <td>0.701230</td>\n",
              "      <td>0.020922</td>\n",
              "      <td>3.426225</td>\n",
              "      <td>0.121371</td>\n",
              "      <td>0.997999</td>\n",
              "      <td>4.944671</td>\n",
              "      <td>0.018372</td>\n",
              "      <td>173762.533053</td>\n",
              "      <td>1.982192</td>\n",
              "    </tr>\n",
              "    <tr>\n",
              "      <th>5</th>\n",
              "      <td>0.24892</td>\n",
              "      <td>0.050</td>\n",
              "      <td>0.146608</td>\n",
              "      <td>0.685138</td>\n",
              "      <td>0.021118</td>\n",
              "      <td>3.956433</td>\n",
              "      <td>0.144286</td>\n",
              "      <td>0.996547</td>\n",
              "      <td>4.920939</td>\n",
              "      <td>0.013829</td>\n",
              "      <td>175129.470090</td>\n",
              "      <td>1.830482</td>\n",
              "    </tr>\n",
              "    <tr>\n",
              "      <th>6</th>\n",
              "      <td>0.28448</td>\n",
              "      <td>0.043</td>\n",
              "      <td>0.125664</td>\n",
              "      <td>0.599940</td>\n",
              "      <td>0.022094</td>\n",
              "      <td>3.913085</td>\n",
              "      <td>0.146419</td>\n",
              "      <td>0.991552</td>\n",
              "      <td>4.558874</td>\n",
              "      <td>0.010064</td>\n",
              "      <td>172410.498017</td>\n",
              "      <td>1.815926</td>\n",
              "    </tr>\n",
              "    <tr>\n",
              "      <th>7</th>\n",
              "      <td>0.30000</td>\n",
              "      <td>0.010</td>\n",
              "      <td>0.000000</td>\n",
              "      <td>0.197457</td>\n",
              "      <td>0.022090</td>\n",
              "      <td>0.336941</td>\n",
              "      <td>0.014614</td>\n",
              "      <td>0.999980</td>\n",
              "      <td>1.017167</td>\n",
              "      <td>0.002340</td>\n",
              "      <td>42446.755244</td>\n",
              "      <td>-1.843115</td>\n",
              "    </tr>\n",
              "  </tbody>\n",
              "</table>\n",
              "</div>\n",
              "      <button class=\"colab-df-convert\" onclick=\"convertToInteractive('df-454f007d-e785-4827-ae3d-842312d94349')\"\n",
              "              title=\"Convert this dataframe to an interactive table.\"\n",
              "              style=\"display:none;\">\n",
              "        \n",
              "  <svg xmlns=\"http://www.w3.org/2000/svg\" height=\"24px\"viewBox=\"0 0 24 24\"\n",
              "       width=\"24px\">\n",
              "    <path d=\"M0 0h24v24H0V0z\" fill=\"none\"/>\n",
              "    <path d=\"M18.56 5.44l.94 2.06.94-2.06 2.06-.94-2.06-.94-.94-2.06-.94 2.06-2.06.94zm-11 1L8.5 8.5l.94-2.06 2.06-.94-2.06-.94L8.5 2.5l-.94 2.06-2.06.94zm10 10l.94 2.06.94-2.06 2.06-.94-2.06-.94-.94-2.06-.94 2.06-2.06.94z\"/><path d=\"M17.41 7.96l-1.37-1.37c-.4-.4-.92-.59-1.43-.59-.52 0-1.04.2-1.43.59L10.3 9.45l-7.72 7.72c-.78.78-.78 2.05 0 2.83L4 21.41c.39.39.9.59 1.41.59.51 0 1.02-.2 1.41-.59l7.78-7.78 2.81-2.81c.8-.78.8-2.07 0-2.86zM5.41 20L4 18.59l7.72-7.72 1.47 1.35L5.41 20z\"/>\n",
              "  </svg>\n",
              "      </button>\n",
              "      \n",
              "  <style>\n",
              "    .colab-df-container {\n",
              "      display:flex;\n",
              "      flex-wrap:wrap;\n",
              "      gap: 12px;\n",
              "    }\n",
              "\n",
              "    .colab-df-convert {\n",
              "      background-color: #E8F0FE;\n",
              "      border: none;\n",
              "      border-radius: 50%;\n",
              "      cursor: pointer;\n",
              "      display: none;\n",
              "      fill: #1967D2;\n",
              "      height: 32px;\n",
              "      padding: 0 0 0 0;\n",
              "      width: 32px;\n",
              "    }\n",
              "\n",
              "    .colab-df-convert:hover {\n",
              "      background-color: #E2EBFA;\n",
              "      box-shadow: 0px 1px 2px rgba(60, 64, 67, 0.3), 0px 1px 3px 1px rgba(60, 64, 67, 0.15);\n",
              "      fill: #174EA6;\n",
              "    }\n",
              "\n",
              "    [theme=dark] .colab-df-convert {\n",
              "      background-color: #3B4455;\n",
              "      fill: #D2E3FC;\n",
              "    }\n",
              "\n",
              "    [theme=dark] .colab-df-convert:hover {\n",
              "      background-color: #434B5C;\n",
              "      box-shadow: 0px 1px 3px 1px rgba(0, 0, 0, 0.15);\n",
              "      filter: drop-shadow(0px 1px 2px rgba(0, 0, 0, 0.3));\n",
              "      fill: #FFFFFF;\n",
              "    }\n",
              "  </style>\n",
              "\n",
              "      <script>\n",
              "        const buttonEl =\n",
              "          document.querySelector('#df-454f007d-e785-4827-ae3d-842312d94349 button.colab-df-convert');\n",
              "        buttonEl.style.display =\n",
              "          google.colab.kernel.accessAllowed ? 'block' : 'none';\n",
              "\n",
              "        async function convertToInteractive(key) {\n",
              "          const element = document.querySelector('#df-454f007d-e785-4827-ae3d-842312d94349');\n",
              "          const dataTable =\n",
              "            await google.colab.kernel.invokeFunction('convertToInteractive',\n",
              "                                                     [key], {});\n",
              "          if (!dataTable) return;\n",
              "\n",
              "          const docLinkHtml = 'Like what you see? Visit the ' +\n",
              "            '<a target=\"_blank\" href=https://colab.research.google.com/notebooks/data_table.ipynb>data table notebook</a>'\n",
              "            + ' to learn more about interactive tables.';\n",
              "          element.innerHTML = '';\n",
              "          dataTable['output_type'] = 'display_data';\n",
              "          await google.colab.output.renderOutput(dataTable, element);\n",
              "          const docLink = document.createElement('div');\n",
              "          docLink.innerHTML = docLinkHtml;\n",
              "          element.appendChild(docLink);\n",
              "        }\n",
              "      </script>\n",
              "    </div>\n",
              "  </div>\n",
              "  "
            ]
          },
          "metadata": {},
          "execution_count": 37
        }
      ]
    },
    {
      "cell_type": "code",
      "source": [
        "pl.plot( df['radius'], df['Cl'], 'o-' )\n",
        "pl.grid()\n",
        "pl.xlabel( r'$r$ [m]' )\n",
        "pl.ylabel( r'$C_\\mathrm{L}$ [-]' )\n",
        "pl.savefig( 'FIG_alpha_CL.pdf', bbox_inches='tight', pad_inches=0.05 )"
      ],
      "metadata": {
        "id": "eaOQORczGyBW"
      },
      "execution_count": null,
      "outputs": []
    },
    {
      "cell_type": "code",
      "source": [
        "solver.solver = 'brute'\n",
        "Tb,Qb,Pb,df = solver.run()\n",
        "Tb,Qb,Pb,df"
      ],
      "metadata": {
        "colab": {
          "base_uri": "https://localhost:8080/"
        },
        "id": "akP6Ow9U6rYb",
        "outputId": "ec659441-c7ff-4706-f1b9-a16bf47054f2"
      },
      "execution_count": 31,
      "outputs": [
        {
          "output_type": "stream",
          "name": "stderr",
          "text": [
            "/usr/local/lib/python3.7/dist-packages/pybemt/rotor.py:270: RuntimeWarning: divide by zero encountered in double_scalars\n",
            "  resid = sin(phi)/(1 + C*a) - v_inf*cos(phi)/(omega*self.radius*(1 - C*ap))\n",
            "/usr/local/lib/python3.7/dist-packages/pybemt/rotor.py:270: RuntimeWarning: invalid value encountered in double_scalars\n",
            "  resid = sin(phi)/(1 + C*a) - v_inf*cos(phi)/(omega*self.radius*(1 - C*ap))\n"
          ]
        },
        {
          "output_type": "stream",
          "name": "stdout",
          "text": [
            "--- Results ---\n",
            "Trust (N):\t 18.219122064891447\n",
            "Torque (Nm):\t 0.6334295027106964\n",
            "Power (W):\t 132.66516481886399\n"
          ]
        }
      ]
    },
    {
      "cell_type": "code",
      "source": [
        "J, CT, CQ, CP, eta = solver.rotor_coeffs( T, Q, P)\n",
        "J, CT, CQ, CP, eta"
      ],
      "metadata": {
        "colab": {
          "base_uri": "https://localhost:8080/"
        },
        "id": "1Kz_CXMq_D36",
        "outputId": "96619c3c-a7a9-4bd8-ca97-526a5d05f379"
      },
      "execution_count": 33,
      "outputs": [
        {
          "output_type": "execute_result",
          "data": {
            "text/plain": [
              "(0.03749999999999999,\n",
              " 0.03258337700232406,\n",
              " 0.0014195359834748417,\n",
              " 0.00891920763438185,\n",
              " 0.13699385502329264)"
            ]
          },
          "metadata": {},
          "execution_count": 33
        }
      ]
    },
    {
      "cell_type": "code",
      "source": [],
      "metadata": {
        "id": "yTVXKK0WGsUQ"
      },
      "execution_count": null,
      "outputs": []
    }
  ]
}
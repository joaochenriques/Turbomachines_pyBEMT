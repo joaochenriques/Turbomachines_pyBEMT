{
  "nbformat": 4,
  "nbformat_minor": 0,
  "metadata": {
    "colab": {
      "provenance": [],
      "authorship_tag": "ABX9TyPnVt0TrsOADR2Kk4OurTqr",
      "include_colab_link": true
    },
    "kernelspec": {
      "name": "python3",
      "display_name": "Python 3"
    },
    "language_info": {
      "name": "python"
    }
  },
  "cells": [
    {
      "cell_type": "markdown",
      "metadata": {
        "id": "view-in-github",
        "colab_type": "text"
      },
      "source": [
        "<a href=\"https://colab.research.google.com/github/joaochenriques/Turbomachines_pyBEMT/blob/main/Rotor.ipynb\" target=\"_parent\"><img src=\"https://colab.research.google.com/assets/colab-badge.svg\" alt=\"Open In Colab\"/></a>"
      ]
    },
    {
      "cell_type": "code",
      "source": [
        "import os\n",
        "import pathlib\n",
        "\n",
        "if not pathlib.Path(\"mpl_utils.py\").exists():\n",
        "  os.system( \"curl -O https://raw.githubusercontent.com/joaochenriques/ipynb_libs/main/mpl_utils.py\" )\n",
        "\n",
        "import mpl_utils as mut\n",
        "mut.config_plots()\n",
        "\n",
        "%config InlineBackend.figure_formats = ['svg']"
      ],
      "metadata": {
        "id": "w7T7K6b9-7Is"
      },
      "execution_count": 1,
      "outputs": []
    },
    {
      "cell_type": "code",
      "execution_count": 2,
      "metadata": {
        "colab": {
          "base_uri": "https://localhost:8080/"
        },
        "id": "GNRkB4aw5ryg",
        "outputId": "d2d8fdd6-7dee-4ebf-a1f9-047044d55ec2"
      },
      "outputs": [
        {
          "output_type": "stream",
          "name": "stdout",
          "text": [
            "Looking in indexes: https://pypi.org/simple, https://us-python.pkg.dev/colab-wheels/public/simple/\n",
            "Collecting git+https://github.com/kegiljarhus/pybemt.git\n",
            "  Cloning https://github.com/kegiljarhus/pybemt.git to /tmp/pip-req-build-70ltyymg\n",
            "  Running command git clone -q https://github.com/kegiljarhus/pybemt.git /tmp/pip-req-build-70ltyymg\n",
            "Building wheels for collected packages: pybemt\n",
            "  Building wheel for pybemt (setup.py) ... \u001b[?25l\u001b[?25hdone\n",
            "  Created wheel for pybemt: filename=pybemt-0.1.0-py3-none-any.whl size=27915 sha256=09d0a288bc09719f42ad4cc5f263d8a8e4b551353a6335cd5817d3bfd39c6187\n",
            "  Stored in directory: /tmp/pip-ephem-wheel-cache-d04l8q3t/wheels/1b/1f/d5/fe14d42d6aa7d8da937e514e51afa61c3093e395de3eba06e2\n",
            "Successfully built pybemt\n",
            "Installing collected packages: pybemt\n",
            "Successfully installed pybemt-0.1.0\n"
          ]
        }
      ],
      "source": [
        "!pip install git+https://github.com/kegiljarhus/pybemt.git "
      ]
    },
    {
      "cell_type": "code",
      "source": [
        "!curl -O https://raw.githubusercontent.com/joaochenriques/Turbomachines_pyBEMT/main/test_config.ini"
      ],
      "metadata": {
        "colab": {
          "base_uri": "https://localhost:8080/"
        },
        "id": "QRdwbpDy9llo",
        "outputId": "738f3a66-938e-4b34-e8ce-f7b1f5161b2f"
      },
      "execution_count": 3,
      "outputs": [
        {
          "output_type": "stream",
          "name": "stdout",
          "text": [
            "  % Total    % Received % Xferd  Average Speed   Time    Time     Time  Current\n",
            "                                 Dload  Upload   Total   Spent    Left  Speed\n",
            "\r  0     0    0     0    0     0      0      0 --:--:-- --:--:-- --:--:--     0\r100   402  100   402    0     0   3350      0 --:--:-- --:--:-- --:--:--  3350\n"
          ]
        }
      ]
    },
    {
      "cell_type": "code",
      "source": [
        "from pybemt.solver import Solver\n",
        "import matplotlib.pyplot as pl"
      ],
      "metadata": {
        "id": "3290Rj555uit"
      },
      "execution_count": 4,
      "outputs": []
    },
    {
      "cell_type": "code",
      "source": [
        "solver = Solver('test_config.ini')\n",
        "T, Q, P, df = solver.run()\n",
        "T, Q, P"
      ],
      "metadata": {
        "colab": {
          "base_uri": "https://localhost:8080/"
        },
        "id": "HEENYpbWEC5P",
        "outputId": "30eb85b6-f1b8-4719-8977-215ad9c07b82"
      },
      "execution_count": 5,
      "outputs": [
        {
          "output_type": "stream",
          "name": "stdout",
          "text": [
            "--- Results ---\n",
            "Trust (N):\t 18.165594716317923\n",
            "Torque (Nm):\t 0.6331256667274107\n",
            "Power (W):\t 132.60152955933154\n"
          ]
        },
        {
          "output_type": "execute_result",
          "data": {
            "text/plain": [
              "(18.165594716317923, 0.6331256667274107, 132.60152955933154)"
            ]
          },
          "metadata": {},
          "execution_count": 5
        }
      ]
    },
    {
      "cell_type": "code",
      "source": [
        "df"
      ],
      "metadata": {
        "colab": {
          "base_uri": "https://localhost:8080/",
          "height": 364
        },
        "id": "CIdifqKXG9tb",
        "outputId": "3e0e2223-0f58-44eb-a873-c735d511da9c"
      },
      "execution_count": 6,
      "outputs": [
        {
          "output_type": "execute_result",
          "data": {
            "text/plain": [
              "    radius  chord     pitch        Cl        Cd        dT        dQ         F  \\\n",
              "0  0.07112  0.056  0.342085  0.808143  0.021040  0.399394  0.008624  0.927706   \n",
              "1  0.10668  0.070  0.312414  0.897390  0.020697  1.258291  0.036530  0.968018   \n",
              "2  0.14224  0.070  0.251327  0.814936  0.019957  2.081059  0.066543  0.988724   \n",
              "3  0.17780  0.065  0.202458  0.742332  0.020464  2.794167  0.094739  0.996192   \n",
              "4  0.21336  0.058  0.169297  0.701230  0.020922  3.426225  0.121371  0.997999   \n",
              "5  0.24892  0.050  0.146608  0.685138  0.021118  3.956433  0.144286  0.996547   \n",
              "6  0.28448  0.043  0.125664  0.599940  0.022094  3.913085  0.146419  0.991552   \n",
              "7  0.30000  0.010  0.000000  0.197457  0.022090  0.336941  0.014614  0.999980   \n",
              "\n",
              "          a        ap             Re       AoA  \n",
              "0  2.862794  0.058352   55139.041357  4.202486  \n",
              "1  4.244372  0.051696  103408.615283  3.997758  \n",
              "2  4.723226  0.035642  138779.603685  3.133321  \n",
              "3  4.891512  0.025049  161803.583572  2.382630  \n",
              "4  4.944671  0.018372  173762.533053  1.982192  \n",
              "5  4.920939  0.013829  175129.470090  1.830482  \n",
              "6  4.558874  0.010064  172410.498017  1.815926  \n",
              "7  1.017167  0.002340   42446.755244 -1.843115  "
            ],
            "text/html": [
              "\n",
              "  <div id=\"df-ec70baf9-f3e8-4be2-a9a1-abae367573c7\">\n",
              "    <div class=\"colab-df-container\">\n",
              "      <div>\n",
              "<style scoped>\n",
              "    .dataframe tbody tr th:only-of-type {\n",
              "        vertical-align: middle;\n",
              "    }\n",
              "\n",
              "    .dataframe tbody tr th {\n",
              "        vertical-align: top;\n",
              "    }\n",
              "\n",
              "    .dataframe thead th {\n",
              "        text-align: right;\n",
              "    }\n",
              "</style>\n",
              "<table border=\"1\" class=\"dataframe\">\n",
              "  <thead>\n",
              "    <tr style=\"text-align: right;\">\n",
              "      <th></th>\n",
              "      <th>radius</th>\n",
              "      <th>chord</th>\n",
              "      <th>pitch</th>\n",
              "      <th>Cl</th>\n",
              "      <th>Cd</th>\n",
              "      <th>dT</th>\n",
              "      <th>dQ</th>\n",
              "      <th>F</th>\n",
              "      <th>a</th>\n",
              "      <th>ap</th>\n",
              "      <th>Re</th>\n",
              "      <th>AoA</th>\n",
              "    </tr>\n",
              "  </thead>\n",
              "  <tbody>\n",
              "    <tr>\n",
              "      <th>0</th>\n",
              "      <td>0.07112</td>\n",
              "      <td>0.056</td>\n",
              "      <td>0.342085</td>\n",
              "      <td>0.808143</td>\n",
              "      <td>0.021040</td>\n",
              "      <td>0.399394</td>\n",
              "      <td>0.008624</td>\n",
              "      <td>0.927706</td>\n",
              "      <td>2.862794</td>\n",
              "      <td>0.058352</td>\n",
              "      <td>55139.041357</td>\n",
              "      <td>4.202486</td>\n",
              "    </tr>\n",
              "    <tr>\n",
              "      <th>1</th>\n",
              "      <td>0.10668</td>\n",
              "      <td>0.070</td>\n",
              "      <td>0.312414</td>\n",
              "      <td>0.897390</td>\n",
              "      <td>0.020697</td>\n",
              "      <td>1.258291</td>\n",
              "      <td>0.036530</td>\n",
              "      <td>0.968018</td>\n",
              "      <td>4.244372</td>\n",
              "      <td>0.051696</td>\n",
              "      <td>103408.615283</td>\n",
              "      <td>3.997758</td>\n",
              "    </tr>\n",
              "    <tr>\n",
              "      <th>2</th>\n",
              "      <td>0.14224</td>\n",
              "      <td>0.070</td>\n",
              "      <td>0.251327</td>\n",
              "      <td>0.814936</td>\n",
              "      <td>0.019957</td>\n",
              "      <td>2.081059</td>\n",
              "      <td>0.066543</td>\n",
              "      <td>0.988724</td>\n",
              "      <td>4.723226</td>\n",
              "      <td>0.035642</td>\n",
              "      <td>138779.603685</td>\n",
              "      <td>3.133321</td>\n",
              "    </tr>\n",
              "    <tr>\n",
              "      <th>3</th>\n",
              "      <td>0.17780</td>\n",
              "      <td>0.065</td>\n",
              "      <td>0.202458</td>\n",
              "      <td>0.742332</td>\n",
              "      <td>0.020464</td>\n",
              "      <td>2.794167</td>\n",
              "      <td>0.094739</td>\n",
              "      <td>0.996192</td>\n",
              "      <td>4.891512</td>\n",
              "      <td>0.025049</td>\n",
              "      <td>161803.583572</td>\n",
              "      <td>2.382630</td>\n",
              "    </tr>\n",
              "    <tr>\n",
              "      <th>4</th>\n",
              "      <td>0.21336</td>\n",
              "      <td>0.058</td>\n",
              "      <td>0.169297</td>\n",
              "      <td>0.701230</td>\n",
              "      <td>0.020922</td>\n",
              "      <td>3.426225</td>\n",
              "      <td>0.121371</td>\n",
              "      <td>0.997999</td>\n",
              "      <td>4.944671</td>\n",
              "      <td>0.018372</td>\n",
              "      <td>173762.533053</td>\n",
              "      <td>1.982192</td>\n",
              "    </tr>\n",
              "    <tr>\n",
              "      <th>5</th>\n",
              "      <td>0.24892</td>\n",
              "      <td>0.050</td>\n",
              "      <td>0.146608</td>\n",
              "      <td>0.685138</td>\n",
              "      <td>0.021118</td>\n",
              "      <td>3.956433</td>\n",
              "      <td>0.144286</td>\n",
              "      <td>0.996547</td>\n",
              "      <td>4.920939</td>\n",
              "      <td>0.013829</td>\n",
              "      <td>175129.470090</td>\n",
              "      <td>1.830482</td>\n",
              "    </tr>\n",
              "    <tr>\n",
              "      <th>6</th>\n",
              "      <td>0.28448</td>\n",
              "      <td>0.043</td>\n",
              "      <td>0.125664</td>\n",
              "      <td>0.599940</td>\n",
              "      <td>0.022094</td>\n",
              "      <td>3.913085</td>\n",
              "      <td>0.146419</td>\n",
              "      <td>0.991552</td>\n",
              "      <td>4.558874</td>\n",
              "      <td>0.010064</td>\n",
              "      <td>172410.498017</td>\n",
              "      <td>1.815926</td>\n",
              "    </tr>\n",
              "    <tr>\n",
              "      <th>7</th>\n",
              "      <td>0.30000</td>\n",
              "      <td>0.010</td>\n",
              "      <td>0.000000</td>\n",
              "      <td>0.197457</td>\n",
              "      <td>0.022090</td>\n",
              "      <td>0.336941</td>\n",
              "      <td>0.014614</td>\n",
              "      <td>0.999980</td>\n",
              "      <td>1.017167</td>\n",
              "      <td>0.002340</td>\n",
              "      <td>42446.755244</td>\n",
              "      <td>-1.843115</td>\n",
              "    </tr>\n",
              "  </tbody>\n",
              "</table>\n",
              "</div>\n",
              "      <button class=\"colab-df-convert\" onclick=\"convertToInteractive('df-ec70baf9-f3e8-4be2-a9a1-abae367573c7')\"\n",
              "              title=\"Convert this dataframe to an interactive table.\"\n",
              "              style=\"display:none;\">\n",
              "        \n",
              "  <svg xmlns=\"http://www.w3.org/2000/svg\" height=\"24px\"viewBox=\"0 0 24 24\"\n",
              "       width=\"24px\">\n",
              "    <path d=\"M0 0h24v24H0V0z\" fill=\"none\"/>\n",
              "    <path d=\"M18.56 5.44l.94 2.06.94-2.06 2.06-.94-2.06-.94-.94-2.06-.94 2.06-2.06.94zm-11 1L8.5 8.5l.94-2.06 2.06-.94-2.06-.94L8.5 2.5l-.94 2.06-2.06.94zm10 10l.94 2.06.94-2.06 2.06-.94-2.06-.94-.94-2.06-.94 2.06-2.06.94z\"/><path d=\"M17.41 7.96l-1.37-1.37c-.4-.4-.92-.59-1.43-.59-.52 0-1.04.2-1.43.59L10.3 9.45l-7.72 7.72c-.78.78-.78 2.05 0 2.83L4 21.41c.39.39.9.59 1.41.59.51 0 1.02-.2 1.41-.59l7.78-7.78 2.81-2.81c.8-.78.8-2.07 0-2.86zM5.41 20L4 18.59l7.72-7.72 1.47 1.35L5.41 20z\"/>\n",
              "  </svg>\n",
              "      </button>\n",
              "      \n",
              "  <style>\n",
              "    .colab-df-container {\n",
              "      display:flex;\n",
              "      flex-wrap:wrap;\n",
              "      gap: 12px;\n",
              "    }\n",
              "\n",
              "    .colab-df-convert {\n",
              "      background-color: #E8F0FE;\n",
              "      border: none;\n",
              "      border-radius: 50%;\n",
              "      cursor: pointer;\n",
              "      display: none;\n",
              "      fill: #1967D2;\n",
              "      height: 32px;\n",
              "      padding: 0 0 0 0;\n",
              "      width: 32px;\n",
              "    }\n",
              "\n",
              "    .colab-df-convert:hover {\n",
              "      background-color: #E2EBFA;\n",
              "      box-shadow: 0px 1px 2px rgba(60, 64, 67, 0.3), 0px 1px 3px 1px rgba(60, 64, 67, 0.15);\n",
              "      fill: #174EA6;\n",
              "    }\n",
              "\n",
              "    [theme=dark] .colab-df-convert {\n",
              "      background-color: #3B4455;\n",
              "      fill: #D2E3FC;\n",
              "    }\n",
              "\n",
              "    [theme=dark] .colab-df-convert:hover {\n",
              "      background-color: #434B5C;\n",
              "      box-shadow: 0px 1px 3px 1px rgba(0, 0, 0, 0.15);\n",
              "      filter: drop-shadow(0px 1px 2px rgba(0, 0, 0, 0.3));\n",
              "      fill: #FFFFFF;\n",
              "    }\n",
              "  </style>\n",
              "\n",
              "      <script>\n",
              "        const buttonEl =\n",
              "          document.querySelector('#df-ec70baf9-f3e8-4be2-a9a1-abae367573c7 button.colab-df-convert');\n",
              "        buttonEl.style.display =\n",
              "          google.colab.kernel.accessAllowed ? 'block' : 'none';\n",
              "\n",
              "        async function convertToInteractive(key) {\n",
              "          const element = document.querySelector('#df-ec70baf9-f3e8-4be2-a9a1-abae367573c7');\n",
              "          const dataTable =\n",
              "            await google.colab.kernel.invokeFunction('convertToInteractive',\n",
              "                                                     [key], {});\n",
              "          if (!dataTable) return;\n",
              "\n",
              "          const docLinkHtml = 'Like what you see? Visit the ' +\n",
              "            '<a target=\"_blank\" href=https://colab.research.google.com/notebooks/data_table.ipynb>data table notebook</a>'\n",
              "            + ' to learn more about interactive tables.';\n",
              "          element.innerHTML = '';\n",
              "          dataTable['output_type'] = 'display_data';\n",
              "          await google.colab.output.renderOutput(dataTable, element);\n",
              "          const docLink = document.createElement('div');\n",
              "          docLink.innerHTML = docLinkHtml;\n",
              "          element.appendChild(docLink);\n",
              "        }\n",
              "      </script>\n",
              "    </div>\n",
              "  </div>\n",
              "  "
            ]
          },
          "metadata": {},
          "execution_count": 6
        }
      ]
    },
    {
      "cell_type": "code",
      "source": [
        "pl.plot( df['radius'], df['Cl'], 'o-' )\n",
        "pl.grid()\n",
        "pl.xlabel( r'$r$ [m]' )\n",
        "pl.ylabel( r'$C_\\mathrm{L}$ [-]' )\n",
        "pl.savefig( 'FIG_alpha_CL.pdf', bbox_inches='tight', pad_inches=0.05 )"
      ],
      "metadata": {
        "colab": {
          "base_uri": "https://localhost:8080/",
          "height": 447
        },
        "id": "eaOQORczGyBW",
        "outputId": "c32faea6-8a5a-4544-b604-c9953bbbce4d"
      },
      "execution_count": 7,
      "outputs": [
        {
          "output_type": "display_data",
          "data": {
            "text/plain": [
              "<Figure size 1680x1260 with 1 Axes>"
            ],
            "image/svg+xml": "<?xml version=\"1.0\" encoding=\"utf-8\" standalone=\"no\"?>\n<!DOCTYPE svg PUBLIC \"-//W3C//DTD SVG 1.1//EN\"\n  \"http://www.w3.org/Graphics/SVG/1.1/DTD/svg11.dtd\">\n<!-- Created with matplotlib (https://matplotlib.org/) -->\n<svg height=\"319.68pt\" version=\"1.1\" viewBox=\"0 0 422.64 319.68\" width=\"422.64pt\" xmlns=\"http://www.w3.org/2000/svg\" xmlns:xlink=\"http://www.w3.org/1999/xlink\">\n <defs>\n  <style type=\"text/css\">\n*{stroke-linecap:butt;stroke-linejoin:round;}\n  </style>\n </defs>\n <g id=\"figure_1\">\n  <g id=\"patch_1\">\n   <path d=\"M 0 319.68 \nL 422.64 319.68 \nL 422.64 0 \nL 0 0 \nz\n\" style=\"fill:#ffffff;\"/>\n  </g>\n  <g id=\"axes_1\">\n   <g id=\"patch_2\">\n    <path d=\"M 48.6 276.12 \nL 402.84 276.12 \nL 402.84 13.68 \nL 48.6 13.68 \nz\n\" style=\"fill:#ffffff;\"/>\n   </g>\n   <g id=\"line2d_1\">\n    <path clip-path=\"url(#p0225f8792b)\" d=\"M 78.526195 43.813827 \nL 128.913293 14.536357 \nL 179.30039 41.585291 \nL 229.687488 65.403076 \nL 280.074586 78.886555 \nL 330.461683 84.165494 \nL 380.848781 112.114693 \nL 402.84 244.1491 \n\" style=\"fill:none;stroke:#1f77b4;stroke-linecap:square;stroke-width:1.5;\"/>\n    <defs>\n     <path d=\"M 0 2.5 \nC 0.663008 2.5 1.29895 2.236584 1.767767 1.767767 \nC 2.236584 1.29895 2.5 0.663008 2.5 0 \nC 2.5 -0.663008 2.236584 -1.29895 1.767767 -1.767767 \nC 1.29895 -2.236584 0.663008 -2.5 0 -2.5 \nC -0.663008 -2.5 -1.29895 -2.236584 -1.767767 -1.767767 \nC -2.236584 -1.29895 -2.5 -0.663008 -2.5 0 \nC -2.5 0.663008 -2.236584 1.29895 -1.767767 1.767767 \nC -1.29895 2.236584 -0.663008 2.5 0 2.5 \nz\n\" id=\"mf192345d50\" style=\"stroke:#000000;stroke-width:0.5;\"/>\n    </defs>\n    <g clip-path=\"url(#p0225f8792b)\">\n     <use style=\"fill:#1f77b4;stroke:#000000;stroke-width:0.5;\" x=\"78.526195\" xlink:href=\"#mf192345d50\" y=\"43.813827\"/>\n     <use style=\"fill:#1f77b4;stroke:#000000;stroke-width:0.5;\" x=\"128.913293\" xlink:href=\"#mf192345d50\" y=\"14.536357\"/>\n     <use style=\"fill:#1f77b4;stroke:#000000;stroke-width:0.5;\" x=\"179.30039\" xlink:href=\"#mf192345d50\" y=\"41.585291\"/>\n     <use style=\"fill:#1f77b4;stroke:#000000;stroke-width:0.5;\" x=\"229.687488\" xlink:href=\"#mf192345d50\" y=\"65.403076\"/>\n     <use style=\"fill:#1f77b4;stroke:#000000;stroke-width:0.5;\" x=\"280.074586\" xlink:href=\"#mf192345d50\" y=\"78.886555\"/>\n     <use style=\"fill:#1f77b4;stroke:#000000;stroke-width:0.5;\" x=\"330.461683\" xlink:href=\"#mf192345d50\" y=\"84.165494\"/>\n     <use style=\"fill:#1f77b4;stroke:#000000;stroke-width:0.5;\" x=\"380.848781\" xlink:href=\"#mf192345d50\" y=\"112.114693\"/>\n     <use style=\"fill:#1f77b4;stroke:#000000;stroke-width:0.5;\" x=\"402.84\" xlink:href=\"#mf192345d50\" y=\"244.1491\"/>\n    </g>\n   </g>\n   <g id=\"patch_3\">\n    <path d=\"M 48.6 276.12 \nL 48.6 13.68 \n\" style=\"fill:none;stroke:#000000;stroke-linecap:square;stroke-linejoin:miter;\"/>\n   </g>\n   <g id=\"patch_4\">\n    <path d=\"M 402.84 276.12 \nL 402.84 13.68 \n\" style=\"fill:none;stroke:#000000;stroke-linecap:square;stroke-linejoin:miter;\"/>\n   </g>\n   <g id=\"patch_5\">\n    <path d=\"M 48.6 276.12 \nL 402.84 276.12 \n\" style=\"fill:none;stroke:#000000;stroke-linecap:square;stroke-linejoin:miter;\"/>\n   </g>\n   <g id=\"patch_6\">\n    <path d=\"M 48.6 13.68 \nL 402.84 13.68 \n\" style=\"fill:none;stroke:#000000;stroke-linecap:square;stroke-linejoin:miter;\"/>\n   </g>\n   <g id=\"matplotlib.axis_1\">\n    <g id=\"xtick_1\">\n     <g id=\"line2d_2\">\n      <path clip-path=\"url(#p0225f8792b)\" d=\"M 48.6 276.12 \nL 48.6 13.68 \n\" style=\"fill:none;stroke:#000000;stroke-dasharray:1,3;stroke-dashoffset:0;stroke-width:0.5;\"/>\n     </g>\n     <g id=\"line2d_3\">\n      <defs>\n       <path d=\"M 0 0 \nL 0 -4 \n\" id=\"m57f2f138da\" style=\"stroke:#000000;stroke-width:0.5;\"/>\n      </defs>\n      <g>\n       <use style=\"stroke:#000000;stroke-width:0.5;\" x=\"48.6\" xlink:href=\"#m57f2f138da\" y=\"276.12\"/>\n      </g>\n     </g>\n     <g id=\"line2d_4\">\n      <defs>\n       <path d=\"M 0 0 \nL 0 4 \n\" id=\"m304ffd038f\" style=\"stroke:#000000;stroke-width:0.5;\"/>\n      </defs>\n      <g>\n       <use style=\"stroke:#000000;stroke-width:0.5;\" x=\"48.6\" xlink:href=\"#m304ffd038f\" y=\"13.68\"/>\n      </g>\n     </g>\n     <g id=\"text_1\">\n      <!-- 0.05 -->\n      <defs>\n       <path d=\"M 47.59375 33 \nQ 47.59375 26.296875 46.296875 20.34375 \nQ 45 14.40625 42.453125 9.40625 \nQ 39.90625 4.40625 35.40625 1.5 \nQ 30.90625 -1.40625 25 -1.40625 \nQ 18.90625 -1.40625 14.296875 1.6875 \nQ 9.703125 4.796875 7.203125 10 \nQ 4.703125 15.203125 3.546875 21.09375 \nQ 2.40625 27 2.40625 33.59375 \nQ 2.40625 42.90625 4.703125 50.34375 \nQ 7 57.796875 12.34375 62.6875 \nQ 17.703125 67.59375 25.40625 67.59375 \nQ 35.203125 67.59375 41.390625 58 \nQ 47.59375 48.40625 47.59375 33 \nz\nM 38 32.5 \nQ 38 48.296875 34.640625 56.640625 \nQ 31.296875 65 24.796875 65 \nQ 18.59375 65 15.296875 56.59375 \nQ 12 48.203125 12 32.90625 \nQ 12 17.5 15.296875 9.34375 \nQ 18.59375 1.203125 25 1.203125 \nQ 31.296875 1.203125 34.640625 9.34375 \nQ 38 17.5 38 32.5 \nz\n\" id=\"STIXGeneral-Regular-48\"/>\n       <path d=\"M 18.09375 4.296875 \nQ 18.09375 2.09375 16.4375 0.5 \nQ 14.796875 -1.09375 12.5 -1.09375 \nQ 10.203125 -1.09375 8.59375 0.5 \nQ 7 2.09375 7 4.390625 \nQ 7 6.703125 8.640625 8.34375 \nQ 10.296875 10 12.59375 10 \nQ 14.796875 10 16.4375 8.296875 \nQ 18.09375 6.59375 18.09375 4.296875 \nz\n\" id=\"STIXGeneral-Regular-46\"/>\n       <path d=\"M 43.796875 68.09375 \nL 40.203125 59.59375 \nQ 39.59375 58.296875 37.5 58.296875 \nL 18.09375 58.296875 \nL 14.09375 49.796875 \nQ 25.09375 47.703125 30 45.25 \nQ 34.90625 42.796875 39.09375 37 \nQ 42.59375 32.203125 42.59375 24.296875 \nQ 42.59375 17.09375 40.25 12.1875 \nQ 37.90625 7.296875 32.796875 3.5 \nQ 26 -1.40625 15.796875 -1.40625 \nQ 10.09375 -1.40625 6.59375 0.296875 \nQ 3.09375 2 3.09375 4.796875 \nQ 3.09375 8.59375 7.59375 8.59375 \nQ 11.203125 8.59375 15 5.5 \nQ 18.90625 2.296875 22.09375 2.296875 \nQ 27.296875 2.296875 31.4375 7.5 \nQ 35.59375 12.703125 35.59375 19.203125 \nQ 35.59375 28.796875 28.90625 34.203125 \nQ 20.203125 41.203125 7.59375 41.203125 \nQ 6.40625 41.203125 6.40625 42 \nL 6.5 42.5 \nL 17.40625 66.203125 \nL 38.09375 66.203125 \nQ 39.796875 66.203125 40.75 66.703125 \nQ 41.703125 67.203125 42.90625 68.796875 \nz\n\" id=\"STIXGeneral-Regular-53\"/>\n      </defs>\n      <g transform=\"translate(36 289.95475)scale(0.144 -0.144)\">\n       <use xlink:href=\"#STIXGeneral-Regular-48\"/>\n       <use x=\"49.999985\" xlink:href=\"#STIXGeneral-Regular-46\"/>\n       <use x=\"74.999969\" xlink:href=\"#STIXGeneral-Regular-48\"/>\n       <use x=\"124.999954\" xlink:href=\"#STIXGeneral-Regular-53\"/>\n      </g>\n     </g>\n    </g>\n    <g id=\"xtick_2\">\n     <g id=\"line2d_5\">\n      <path clip-path=\"url(#p0225f8792b)\" d=\"M 119.448 276.12 \nL 119.448 13.68 \n\" style=\"fill:none;stroke:#000000;stroke-dasharray:1,3;stroke-dashoffset:0;stroke-width:0.5;\"/>\n     </g>\n     <g id=\"line2d_6\">\n      <g>\n       <use style=\"stroke:#000000;stroke-width:0.5;\" x=\"119.448\" xlink:href=\"#m57f2f138da\" y=\"276.12\"/>\n      </g>\n     </g>\n     <g id=\"line2d_7\">\n      <g>\n       <use style=\"stroke:#000000;stroke-width:0.5;\" x=\"119.448\" xlink:href=\"#m304ffd038f\" y=\"13.68\"/>\n      </g>\n     </g>\n     <g id=\"text_2\">\n      <!-- 0.10 -->\n      <defs>\n       <path d=\"M 39.40625 0 \nL 11.796875 0 \nL 11.796875 1.5 \nQ 17.296875 1.796875 19.296875 3.546875 \nQ 21.296875 5.296875 21.296875 9.5 \nL 21.296875 54.40625 \nQ 21.296875 59.296875 18.296875 59.296875 \nQ 16.90625 59.296875 13.796875 58.09375 \nL 11.09375 57.09375 \nL 11.09375 58.5 \nL 29 67.59375 \nL 29.90625 67.296875 \nL 29.90625 7.59375 \nQ 29.90625 4.296875 31.90625 2.890625 \nQ 33.90625 1.5 39.40625 1.5 \nz\n\" id=\"STIXGeneral-Regular-49\"/>\n      </defs>\n      <g transform=\"translate(106.848 289.95475)scale(0.144 -0.144)\">\n       <use xlink:href=\"#STIXGeneral-Regular-48\"/>\n       <use x=\"49.999985\" xlink:href=\"#STIXGeneral-Regular-46\"/>\n       <use x=\"74.999969\" xlink:href=\"#STIXGeneral-Regular-49\"/>\n       <use x=\"124.999954\" xlink:href=\"#STIXGeneral-Regular-48\"/>\n      </g>\n     </g>\n    </g>\n    <g id=\"xtick_3\">\n     <g id=\"line2d_8\">\n      <path clip-path=\"url(#p0225f8792b)\" d=\"M 190.296 276.12 \nL 190.296 13.68 \n\" style=\"fill:none;stroke:#000000;stroke-dasharray:1,3;stroke-dashoffset:0;stroke-width:0.5;\"/>\n     </g>\n     <g id=\"line2d_9\">\n      <g>\n       <use style=\"stroke:#000000;stroke-width:0.5;\" x=\"190.296\" xlink:href=\"#m57f2f138da\" y=\"276.12\"/>\n      </g>\n     </g>\n     <g id=\"line2d_10\">\n      <g>\n       <use style=\"stroke:#000000;stroke-width:0.5;\" x=\"190.296\" xlink:href=\"#m304ffd038f\" y=\"13.68\"/>\n      </g>\n     </g>\n     <g id=\"text_3\">\n      <!-- 0.15 -->\n      <g transform=\"translate(177.696 289.95475)scale(0.144 -0.144)\">\n       <use xlink:href=\"#STIXGeneral-Regular-48\"/>\n       <use x=\"49.999985\" xlink:href=\"#STIXGeneral-Regular-46\"/>\n       <use x=\"74.999969\" xlink:href=\"#STIXGeneral-Regular-49\"/>\n       <use x=\"124.999954\" xlink:href=\"#STIXGeneral-Regular-53\"/>\n      </g>\n     </g>\n    </g>\n    <g id=\"xtick_4\">\n     <g id=\"line2d_11\">\n      <path clip-path=\"url(#p0225f8792b)\" d=\"M 261.144 276.12 \nL 261.144 13.68 \n\" style=\"fill:none;stroke:#000000;stroke-dasharray:1,3;stroke-dashoffset:0;stroke-width:0.5;\"/>\n     </g>\n     <g id=\"line2d_12\">\n      <g>\n       <use style=\"stroke:#000000;stroke-width:0.5;\" x=\"261.144\" xlink:href=\"#m57f2f138da\" y=\"276.12\"/>\n      </g>\n     </g>\n     <g id=\"line2d_13\">\n      <g>\n       <use style=\"stroke:#000000;stroke-width:0.5;\" x=\"261.144\" xlink:href=\"#m304ffd038f\" y=\"13.68\"/>\n      </g>\n     </g>\n     <g id=\"text_4\">\n      <!-- 0.20 -->\n      <defs>\n       <path d=\"M 47.40625 13.703125 \nL 42 0 \nL 2.90625 0 \nL 2.90625 1.203125 \nL 20.703125 20.09375 \nQ 27.703125 27.40625 30.703125 33.5 \nQ 33.703125 39.59375 33.703125 46.09375 \nQ 33.703125 52.796875 30 56.5 \nQ 26.296875 60.203125 19.796875 60.203125 \nQ 14.40625 60.203125 11.25 57.390625 \nQ 8.09375 54.59375 5.09375 47.203125 \nL 3 47.703125 \nQ 4.703125 57 9.84375 62.296875 \nQ 15 67.59375 23.796875 67.59375 \nQ 32.09375 67.59375 37.1875 62.59375 \nQ 42.296875 57.59375 42.296875 50 \nQ 42.296875 38.703125 29.5 25.203125 \nL 13 7.59375 \nL 36.40625 7.59375 \nQ 39.703125 7.59375 41.640625 8.890625 \nQ 43.59375 10.203125 46 14.296875 \nz\n\" id=\"STIXGeneral-Regular-50\"/>\n      </defs>\n      <g transform=\"translate(248.544 289.95475)scale(0.144 -0.144)\">\n       <use xlink:href=\"#STIXGeneral-Regular-48\"/>\n       <use x=\"49.999985\" xlink:href=\"#STIXGeneral-Regular-46\"/>\n       <use x=\"74.999969\" xlink:href=\"#STIXGeneral-Regular-50\"/>\n       <use x=\"124.999954\" xlink:href=\"#STIXGeneral-Regular-48\"/>\n      </g>\n     </g>\n    </g>\n    <g id=\"xtick_5\">\n     <g id=\"line2d_14\">\n      <path clip-path=\"url(#p0225f8792b)\" d=\"M 331.992 276.12 \nL 331.992 13.68 \n\" style=\"fill:none;stroke:#000000;stroke-dasharray:1,3;stroke-dashoffset:0;stroke-width:0.5;\"/>\n     </g>\n     <g id=\"line2d_15\">\n      <g>\n       <use style=\"stroke:#000000;stroke-width:0.5;\" x=\"331.992\" xlink:href=\"#m57f2f138da\" y=\"276.12\"/>\n      </g>\n     </g>\n     <g id=\"line2d_16\">\n      <g>\n       <use style=\"stroke:#000000;stroke-width:0.5;\" x=\"331.992\" xlink:href=\"#m304ffd038f\" y=\"13.68\"/>\n      </g>\n     </g>\n     <g id=\"text_5\">\n      <!-- 0.25 -->\n      <g transform=\"translate(319.392 289.95475)scale(0.144 -0.144)\">\n       <use xlink:href=\"#STIXGeneral-Regular-48\"/>\n       <use x=\"49.999985\" xlink:href=\"#STIXGeneral-Regular-46\"/>\n       <use x=\"74.999969\" xlink:href=\"#STIXGeneral-Regular-50\"/>\n       <use x=\"124.999954\" xlink:href=\"#STIXGeneral-Regular-53\"/>\n      </g>\n     </g>\n    </g>\n    <g id=\"xtick_6\">\n     <g id=\"line2d_17\">\n      <path clip-path=\"url(#p0225f8792b)\" d=\"M 402.84 276.12 \nL 402.84 13.68 \n\" style=\"fill:none;stroke:#000000;stroke-dasharray:1,3;stroke-dashoffset:0;stroke-width:0.5;\"/>\n     </g>\n     <g id=\"line2d_18\">\n      <g>\n       <use style=\"stroke:#000000;stroke-width:0.5;\" x=\"402.84\" xlink:href=\"#m57f2f138da\" y=\"276.12\"/>\n      </g>\n     </g>\n     <g id=\"line2d_19\">\n      <g>\n       <use style=\"stroke:#000000;stroke-width:0.5;\" x=\"402.84\" xlink:href=\"#m304ffd038f\" y=\"13.68\"/>\n      </g>\n     </g>\n     <g id=\"text_6\">\n      <!-- 0.30 -->\n      <defs>\n       <path d=\"M 6.09375 51 \nL 4.5 51.40625 \nQ 6.796875 58.90625 11.6875 63.25 \nQ 16.59375 67.59375 24.09375 67.59375 \nQ 31.09375 67.59375 35.390625 63.796875 \nQ 39.703125 60 39.703125 53.90625 \nQ 39.703125 45.703125 30.40625 40.09375 \nQ 35.90625 37.703125 38.703125 34.796875 \nQ 43.09375 29.90625 43.09375 21.90625 \nQ 43.09375 13.90625 38.5 7.90625 \nQ 35.09375 3.296875 28.75 0.9375 \nQ 22.40625 -1.40625 15.296875 -1.40625 \nQ 4.09375 -1.40625 4.09375 4.296875 \nQ 4.09375 5.90625 5.296875 6.90625 \nQ 6.5 7.90625 8.203125 7.90625 \nQ 10.703125 7.90625 14.296875 5.296875 \nQ 18.703125 2.203125 22.90625 2.203125 \nQ 28.40625 2.203125 32.15625 6.640625 \nQ 35.90625 11.09375 35.90625 17.5 \nQ 35.90625 29 25.5 32 \nQ 22.40625 33 15.296875 33 \nL 15.296875 34.40625 \nQ 20.90625 36.296875 23.703125 38 \nQ 31.796875 42.59375 31.796875 51.40625 \nQ 31.796875 56.40625 28.9375 59 \nQ 26.09375 61.59375 21 61.59375 \nQ 12 61.59375 6.09375 51 \nz\n\" id=\"STIXGeneral-Regular-51\"/>\n      </defs>\n      <g transform=\"translate(390.24 289.95475)scale(0.144 -0.144)\">\n       <use xlink:href=\"#STIXGeneral-Regular-48\"/>\n       <use x=\"49.999985\" xlink:href=\"#STIXGeneral-Regular-46\"/>\n       <use x=\"74.999969\" xlink:href=\"#STIXGeneral-Regular-51\"/>\n       <use x=\"124.999954\" xlink:href=\"#STIXGeneral-Regular-48\"/>\n      </g>\n     </g>\n    </g>\n    <g id=\"text_7\">\n     <!-- $r$ [m] -->\n     <defs>\n      <path d=\"M 17.59375 22.296875 \nL 19.203125 25.796875 \nQ 22.59375 33.296875 28.59375 39.59375 \nQ 32.90625 44.09375 36.5 44.09375 \nQ 38.59375 44.09375 39.890625 42.6875 \nQ 41.203125 41.296875 41.203125 39 \nQ 41.203125 36.703125 39.953125 35.140625 \nQ 38.703125 33.59375 36.5 33.59375 \nQ 34.59375 33.59375 33 36.203125 \nQ 32.203125 37.59375 31.40625 37.59375 \nQ 28.703125 37.59375 23.203125 28.203125 \nQ 19.796875 22.40625 17.75 17.25 \nQ 15.703125 12.09375 12.09375 0 \nL 4.5 0 \nL 12.59375 29.203125 \nQ 14.203125 35.09375 14.203125 37.40625 \nQ 14.203125 40 10.40625 40 \nQ 9.59375 40 7.296875 39.703125 \nL 7.296875 41.40625 \nL 22.796875 44.09375 \nL 23.09375 43.90625 \nz\n\" id=\"STIXGeneral-Italic-114\"/>\n      <path id=\"STIXGeneral-Regular-32\"/>\n      <path d=\"M 29.90625 -15.59375 \nL 8.796875 -15.59375 \nL 8.796875 66.203125 \nL 29.90625 66.203125 \nL 29.90625 63.703125 \nL 21.59375 63.703125 \nQ 19 63.703125 17.703125 62.59375 \nQ 16.40625 61.5 16.40625 58.90625 \nL 16.40625 -7.703125 \nQ 16.40625 -13.09375 21.59375 -13.09375 \nL 29.90625 -13.09375 \nz\n\" id=\"STIXGeneral-Regular-91\"/>\n      <path d=\"M 77.5 0 \nL 55.703125 0 \nL 55.703125 1.5 \nQ 59.90625 1.90625 61.046875 3.25 \nQ 62.203125 4.59375 62.203125 9 \nL 62.203125 29.59375 \nQ 62.203125 35.59375 60.453125 38.1875 \nQ 58.703125 40.796875 54.5 40.796875 \nQ 51 40.796875 48.546875 39.390625 \nQ 46.09375 38 43.796875 34.703125 \nL 43.796875 9.5 \nQ 43.796875 4.703125 45.25 3.140625 \nQ 46.703125 1.59375 51 1.5 \nL 51 0 \nL 28.59375 0 \nL 28.59375 1.5 \nQ 33 1.796875 34.203125 2.9375 \nQ 35.40625 4.09375 35.40625 8.59375 \nL 35.40625 29.703125 \nQ 35.40625 40.796875 28.90625 40.796875 \nQ 26.09375 40.796875 22.9375 39.546875 \nQ 19.796875 38.296875 18.296875 36.5 \nQ 17 35 17 34.796875 \nL 17 7 \nQ 17 3.796875 18.390625 2.75 \nQ 19.796875 1.703125 23.796875 1.5 \nL 23.796875 0 \nL 1.59375 0 \nL 1.59375 1.5 \nQ 5.796875 1.59375 7.1875 3.046875 \nQ 8.59375 4.5 8.59375 8.796875 \nL 8.59375 33.59375 \nQ 8.59375 37.296875 7.796875 38.75 \nQ 7 40.203125 5.09375 40.203125 \nQ 3.59375 40.203125 1.90625 39.796875 \nL 1.90625 41.5 \nQ 8.703125 43.40625 15.796875 46 \nL 16.59375 45.703125 \nL 16.59375 38.296875 \nL 16.796875 38.296875 \nQ 21.296875 43 24.75 44.5 \nQ 28.203125 46 32.09375 46 \nQ 40 46 42.703125 37.59375 \nQ 50.5 46 59 46 \nQ 70.59375 46 70.59375 28 \nL 70.59375 7.703125 \nQ 70.59375 4.40625 71.59375 3.15625 \nQ 72.59375 1.90625 74.90625 1.703125 \nL 77.5 1.5 \nz\n\" id=\"STIXGeneral-Regular-109\"/>\n      <path d=\"M 24.5 -15.59375 \nL 3.40625 -15.59375 \nL 3.40625 -13.09375 \nL 12.203125 -13.09375 \nQ 14.796875 -13.09375 15.84375 -12 \nQ 16.90625 -10.90625 16.90625 -8.5 \nL 16.90625 58.296875 \nQ 16.90625 63.703125 11.796875 63.703125 \nL 3.40625 63.703125 \nL 3.40625 66.203125 \nL 24.5 66.203125 \nz\n\" id=\"STIXGeneral-Regular-93\"/>\n     </defs>\n     <g transform=\"translate(209 309.0075)scale(0.16 -0.16)\">\n      <use transform=\"translate(0 0.796875)\" xlink:href=\"#STIXGeneral-Italic-114\"/>\n      <use transform=\"translate(38.899994 0.796875)\" xlink:href=\"#STIXGeneral-Regular-32\"/>\n      <use transform=\"translate(63.899979 0.796875)\" xlink:href=\"#STIXGeneral-Regular-91\"/>\n      <use transform=\"translate(97.199966 0.796875)\" xlink:href=\"#STIXGeneral-Regular-109\"/>\n      <use transform=\"translate(174.999954 0.796875)\" xlink:href=\"#STIXGeneral-Regular-93\"/>\n     </g>\n    </g>\n   </g>\n   <g id=\"matplotlib.axis_2\">\n    <g id=\"ytick_1\">\n     <g id=\"line2d_20\">\n      <path clip-path=\"url(#p0225f8792b)\" d=\"M 48.6 276.12 \nL 402.84 276.12 \n\" style=\"fill:none;stroke:#000000;stroke-dasharray:1,3;stroke-dashoffset:0;stroke-width:0.5;\"/>\n     </g>\n     <g id=\"line2d_21\">\n      <defs>\n       <path d=\"M 0 0 \nL 4 0 \n\" id=\"ma1214003c2\" style=\"stroke:#000000;stroke-width:0.5;\"/>\n      </defs>\n      <g>\n       <use style=\"stroke:#000000;stroke-width:0.5;\" x=\"48.6\" xlink:href=\"#ma1214003c2\" y=\"276.12\"/>\n      </g>\n     </g>\n     <g id=\"line2d_22\">\n      <defs>\n       <path d=\"M 0 0 \nL -4 0 \n\" id=\"m6aa597662e\" style=\"stroke:#000000;stroke-width:0.5;\"/>\n      </defs>\n      <g>\n       <use style=\"stroke:#000000;stroke-width:0.5;\" x=\"402.84\" xlink:href=\"#m6aa597662e\" y=\"276.12\"/>\n      </g>\n     </g>\n     <g id=\"text_8\">\n      <!-- 0.1 -->\n      <g transform=\"translate(26.6 279.47475)scale(0.144 -0.144)\">\n       <use xlink:href=\"#STIXGeneral-Regular-48\"/>\n       <use x=\"49.999985\" xlink:href=\"#STIXGeneral-Regular-46\"/>\n       <use x=\"74.999969\" xlink:href=\"#STIXGeneral-Regular-49\"/>\n      </g>\n     </g>\n    </g>\n    <g id=\"ytick_2\">\n     <g id=\"line2d_23\">\n      <path clip-path=\"url(#p0225f8792b)\" d=\"M 48.6 243.315 \nL 402.84 243.315 \n\" style=\"fill:none;stroke:#000000;stroke-dasharray:1,3;stroke-dashoffset:0;stroke-width:0.5;\"/>\n     </g>\n     <g id=\"line2d_24\">\n      <g>\n       <use style=\"stroke:#000000;stroke-width:0.5;\" x=\"48.6\" xlink:href=\"#ma1214003c2\" y=\"243.315\"/>\n      </g>\n     </g>\n     <g id=\"line2d_25\">\n      <g>\n       <use style=\"stroke:#000000;stroke-width:0.5;\" x=\"402.84\" xlink:href=\"#m6aa597662e\" y=\"243.315\"/>\n      </g>\n     </g>\n     <g id=\"text_9\">\n      <!-- 0.2 -->\n      <g transform=\"translate(26.6 246.66975)scale(0.144 -0.144)\">\n       <use xlink:href=\"#STIXGeneral-Regular-48\"/>\n       <use x=\"49.999985\" xlink:href=\"#STIXGeneral-Regular-46\"/>\n       <use x=\"74.999969\" xlink:href=\"#STIXGeneral-Regular-50\"/>\n      </g>\n     </g>\n    </g>\n    <g id=\"ytick_3\">\n     <g id=\"line2d_26\">\n      <path clip-path=\"url(#p0225f8792b)\" d=\"M 48.6 210.51 \nL 402.84 210.51 \n\" style=\"fill:none;stroke:#000000;stroke-dasharray:1,3;stroke-dashoffset:0;stroke-width:0.5;\"/>\n     </g>\n     <g id=\"line2d_27\">\n      <g>\n       <use style=\"stroke:#000000;stroke-width:0.5;\" x=\"48.6\" xlink:href=\"#ma1214003c2\" y=\"210.51\"/>\n      </g>\n     </g>\n     <g id=\"line2d_28\">\n      <g>\n       <use style=\"stroke:#000000;stroke-width:0.5;\" x=\"402.84\" xlink:href=\"#m6aa597662e\" y=\"210.51\"/>\n      </g>\n     </g>\n     <g id=\"text_10\">\n      <!-- 0.3 -->\n      <g transform=\"translate(26.6 213.86475)scale(0.144 -0.144)\">\n       <use xlink:href=\"#STIXGeneral-Regular-48\"/>\n       <use x=\"49.999985\" xlink:href=\"#STIXGeneral-Regular-46\"/>\n       <use x=\"74.999969\" xlink:href=\"#STIXGeneral-Regular-51\"/>\n      </g>\n     </g>\n    </g>\n    <g id=\"ytick_4\">\n     <g id=\"line2d_29\">\n      <path clip-path=\"url(#p0225f8792b)\" d=\"M 48.6 177.705 \nL 402.84 177.705 \n\" style=\"fill:none;stroke:#000000;stroke-dasharray:1,3;stroke-dashoffset:0;stroke-width:0.5;\"/>\n     </g>\n     <g id=\"line2d_30\">\n      <g>\n       <use style=\"stroke:#000000;stroke-width:0.5;\" x=\"48.6\" xlink:href=\"#ma1214003c2\" y=\"177.705\"/>\n      </g>\n     </g>\n     <g id=\"line2d_31\">\n      <g>\n       <use style=\"stroke:#000000;stroke-width:0.5;\" x=\"402.84\" xlink:href=\"#m6aa597662e\" y=\"177.705\"/>\n      </g>\n     </g>\n     <g id=\"text_11\">\n      <!-- 0.4 -->\n      <defs>\n       <path d=\"M 47.296875 16.703125 \nL 37 16.703125 \nL 37 0 \nL 29.203125 0 \nL 29.203125 16.703125 \nL 1.203125 16.703125 \nL 1.203125 23.09375 \nL 32.59375 67.59375 \nL 37 67.59375 \nL 37 23.09375 \nL 47.296875 23.09375 \nz\nM 29.203125 23.09375 \nL 29.203125 57.40625 \nL 5.203125 23.09375 \nz\n\" id=\"STIXGeneral-Regular-52\"/>\n      </defs>\n      <g transform=\"translate(26.6 181.05975)scale(0.144 -0.144)\">\n       <use xlink:href=\"#STIXGeneral-Regular-48\"/>\n       <use x=\"49.999985\" xlink:href=\"#STIXGeneral-Regular-46\"/>\n       <use x=\"74.999969\" xlink:href=\"#STIXGeneral-Regular-52\"/>\n      </g>\n     </g>\n    </g>\n    <g id=\"ytick_5\">\n     <g id=\"line2d_32\">\n      <path clip-path=\"url(#p0225f8792b)\" d=\"M 48.6 144.9 \nL 402.84 144.9 \n\" style=\"fill:none;stroke:#000000;stroke-dasharray:1,3;stroke-dashoffset:0;stroke-width:0.5;\"/>\n     </g>\n     <g id=\"line2d_33\">\n      <g>\n       <use style=\"stroke:#000000;stroke-width:0.5;\" x=\"48.6\" xlink:href=\"#ma1214003c2\" y=\"144.9\"/>\n      </g>\n     </g>\n     <g id=\"line2d_34\">\n      <g>\n       <use style=\"stroke:#000000;stroke-width:0.5;\" x=\"402.84\" xlink:href=\"#m6aa597662e\" y=\"144.9\"/>\n      </g>\n     </g>\n     <g id=\"text_12\">\n      <!-- 0.5 -->\n      <g transform=\"translate(26.6 148.25475)scale(0.144 -0.144)\">\n       <use xlink:href=\"#STIXGeneral-Regular-48\"/>\n       <use x=\"49.999985\" xlink:href=\"#STIXGeneral-Regular-46\"/>\n       <use x=\"74.999969\" xlink:href=\"#STIXGeneral-Regular-53\"/>\n      </g>\n     </g>\n    </g>\n    <g id=\"ytick_6\">\n     <g id=\"line2d_35\">\n      <path clip-path=\"url(#p0225f8792b)\" d=\"M 48.6 112.095 \nL 402.84 112.095 \n\" style=\"fill:none;stroke:#000000;stroke-dasharray:1,3;stroke-dashoffset:0;stroke-width:0.5;\"/>\n     </g>\n     <g id=\"line2d_36\">\n      <g>\n       <use style=\"stroke:#000000;stroke-width:0.5;\" x=\"48.6\" xlink:href=\"#ma1214003c2\" y=\"112.095\"/>\n      </g>\n     </g>\n     <g id=\"line2d_37\">\n      <g>\n       <use style=\"stroke:#000000;stroke-width:0.5;\" x=\"402.84\" xlink:href=\"#m6aa597662e\" y=\"112.095\"/>\n      </g>\n     </g>\n     <g id=\"text_13\">\n      <!-- 0.6 -->\n      <defs>\n       <path d=\"M 44.59375 68.40625 \nL 44.796875 66.796875 \nQ 33 64.90625 25.09375 57.25 \nQ 17.203125 49.59375 15.203125 38.296875 \nQ 21 42.796875 27.90625 42.796875 \nQ 36.703125 42.796875 41.75 37.1875 \nQ 46.796875 31.59375 46.796875 21.90625 \nQ 46.796875 12.09375 41.703125 5.90625 \nQ 35.796875 -1.40625 25.796875 -1.40625 \nQ 13.59375 -1.40625 8.09375 8.703125 \nQ 3.40625 17.296875 3.40625 27.90625 \nQ 3.40625 44.296875 14.296875 55.5 \nQ 20.5 61.90625 27.046875 64.546875 \nQ 33.59375 67.203125 44.59375 68.40625 \nz\nM 37.796875 18.796875 \nQ 37.796875 38.203125 24.296875 38.203125 \nQ 19.296875 38.203125 16 35.546875 \nQ 12.703125 32.90625 12.703125 26.59375 \nQ 12.703125 14.90625 16.34375 8.15625 \nQ 20 1.40625 26.90625 1.40625 \nQ 32.203125 1.40625 35 6.15625 \nQ 37.796875 10.90625 37.796875 18.796875 \nz\n\" id=\"STIXGeneral-Regular-54\"/>\n      </defs>\n      <g transform=\"translate(26.6 115.44975)scale(0.144 -0.144)\">\n       <use xlink:href=\"#STIXGeneral-Regular-48\"/>\n       <use x=\"49.999985\" xlink:href=\"#STIXGeneral-Regular-46\"/>\n       <use x=\"74.999969\" xlink:href=\"#STIXGeneral-Regular-54\"/>\n      </g>\n     </g>\n    </g>\n    <g id=\"ytick_7\">\n     <g id=\"line2d_38\">\n      <path clip-path=\"url(#p0225f8792b)\" d=\"M 48.6 79.29 \nL 402.84 79.29 \n\" style=\"fill:none;stroke:#000000;stroke-dasharray:1,3;stroke-dashoffset:0;stroke-width:0.5;\"/>\n     </g>\n     <g id=\"line2d_39\">\n      <g>\n       <use style=\"stroke:#000000;stroke-width:0.5;\" x=\"48.6\" xlink:href=\"#ma1214003c2\" y=\"79.29\"/>\n      </g>\n     </g>\n     <g id=\"line2d_40\">\n      <g>\n       <use style=\"stroke:#000000;stroke-width:0.5;\" x=\"402.84\" xlink:href=\"#m6aa597662e\" y=\"79.29\"/>\n      </g>\n     </g>\n     <g id=\"text_14\">\n      <!-- 0.7 -->\n      <defs>\n       <path d=\"M 44.90625 64.59375 \nL 23.703125 -0.796875 \nL 17.203125 -0.796875 \nL 37 58.796875 \nL 15.5 58.796875 \nQ 11.203125 58.796875 9.09375 57.296875 \nQ 7 55.796875 3.796875 50.59375 \nL 2 51.5 \nL 8 66.203125 \nL 44.90625 66.203125 \nz\n\" id=\"STIXGeneral-Regular-55\"/>\n      </defs>\n      <g transform=\"translate(26.6 82.64475)scale(0.144 -0.144)\">\n       <use xlink:href=\"#STIXGeneral-Regular-48\"/>\n       <use x=\"49.999985\" xlink:href=\"#STIXGeneral-Regular-46\"/>\n       <use x=\"74.999969\" xlink:href=\"#STIXGeneral-Regular-55\"/>\n      </g>\n     </g>\n    </g>\n    <g id=\"ytick_8\">\n     <g id=\"line2d_41\">\n      <path clip-path=\"url(#p0225f8792b)\" d=\"M 48.6 46.485 \nL 402.84 46.485 \n\" style=\"fill:none;stroke:#000000;stroke-dasharray:1,3;stroke-dashoffset:0;stroke-width:0.5;\"/>\n     </g>\n     <g id=\"line2d_42\">\n      <g>\n       <use style=\"stroke:#000000;stroke-width:0.5;\" x=\"48.6\" xlink:href=\"#ma1214003c2\" y=\"46.485\"/>\n      </g>\n     </g>\n     <g id=\"line2d_43\">\n      <g>\n       <use style=\"stroke:#000000;stroke-width:0.5;\" x=\"402.84\" xlink:href=\"#m6aa597662e\" y=\"46.485\"/>\n      </g>\n     </g>\n     <g id=\"text_15\">\n      <!-- 0.8 -->\n      <defs>\n       <path d=\"M 44.5 15.5 \nQ 44.5 7.796875 39.140625 3.1875 \nQ 33.796875 -1.40625 24.796875 -1.40625 \nQ 16.40625 -1.40625 11 3.1875 \nQ 5.59375 7.796875 5.59375 14.90625 \nQ 5.59375 20.203125 8.1875 23.953125 \nQ 10.796875 27.703125 18.59375 33.203125 \nQ 11.09375 39.40625 8.640625 43.203125 \nQ 6.203125 47 6.203125 52 \nQ 6.203125 59.09375 11.640625 63.34375 \nQ 17.09375 67.59375 25.59375 67.59375 \nQ 32.90625 67.59375 37.65625 63.4375 \nQ 42.40625 59.296875 42.40625 53.296875 \nQ 42.40625 47.796875 39.546875 44.5 \nQ 36.703125 41.203125 29 37.09375 \nQ 38 31.09375 41.25 26.390625 \nQ 44.5 21.703125 44.5 15.5 \nz\nM 35.5 53.296875 \nQ 35.5 58.5 32.59375 61.640625 \nQ 29.703125 64.796875 24.59375 64.796875 \nQ 19.5 64.796875 16.546875 62.140625 \nQ 13.59375 59.5 13.59375 54.890625 \nQ 13.59375 50.296875 16.546875 46.546875 \nQ 19.5 42.796875 26.09375 38.90625 \nQ 31.203125 41.90625 33.34375 45.25 \nQ 35.5 48.59375 35.5 53.296875 \nz\nM 27.09375 27.203125 \nL 21.203125 31.203125 \nQ 16.796875 27.59375 15 24.140625 \nQ 13.203125 20.703125 13.203125 15.796875 \nQ 13.203125 9 16.640625 5.203125 \nQ 20.09375 1.40625 25.90625 1.40625 \nQ 30.796875 1.40625 33.84375 4.453125 \nQ 36.90625 7.5 36.90625 12.40625 \nQ 36.90625 16.90625 34.59375 20.296875 \nQ 32.296875 23.703125 27.09375 27.203125 \nz\n\" id=\"STIXGeneral-Regular-56\"/>\n      </defs>\n      <g transform=\"translate(26.6 49.83975)scale(0.144 -0.144)\">\n       <use xlink:href=\"#STIXGeneral-Regular-48\"/>\n       <use x=\"49.999985\" xlink:href=\"#STIXGeneral-Regular-46\"/>\n       <use x=\"74.999969\" xlink:href=\"#STIXGeneral-Regular-56\"/>\n      </g>\n     </g>\n    </g>\n    <g id=\"ytick_9\">\n     <g id=\"line2d_44\">\n      <path clip-path=\"url(#p0225f8792b)\" d=\"M 48.6 13.68 \nL 402.84 13.68 \n\" style=\"fill:none;stroke:#000000;stroke-dasharray:1,3;stroke-dashoffset:0;stroke-width:0.5;\"/>\n     </g>\n     <g id=\"line2d_45\">\n      <g>\n       <use style=\"stroke:#000000;stroke-width:0.5;\" x=\"48.6\" xlink:href=\"#ma1214003c2\" y=\"13.68\"/>\n      </g>\n     </g>\n     <g id=\"line2d_46\">\n      <g>\n       <use style=\"stroke:#000000;stroke-width:0.5;\" x=\"402.84\" xlink:href=\"#m6aa597662e\" y=\"13.68\"/>\n      </g>\n     </g>\n     <g id=\"text_16\">\n      <!-- 0.9 -->\n      <defs>\n       <path d=\"M 5.90625 -2.203125 \nL 5.59375 -0.203125 \nQ 17.09375 1.796875 25.046875 9.5 \nQ 33 17.203125 36 29.40625 \nQ 30.203125 23.703125 21 23.703125 \nQ 12.90625 23.703125 7.953125 29.296875 \nQ 3 34.90625 3 44 \nQ 3 54.09375 8.953125 60.84375 \nQ 14.90625 67.59375 23.796875 67.59375 \nQ 33.296875 67.59375 39.5 60 \nQ 45.90625 52 45.90625 39.40625 \nQ 45.90625 30.59375 42.84375 22.84375 \nQ 39.796875 15.09375 33.90625 9.703125 \nQ 27.703125 4.09375 21.796875 1.640625 \nQ 15.90625 -0.796875 5.90625 -2.203125 \nz\nM 36.203125 35.5 \nL 36.203125 39.40625 \nQ 36.203125 64.796875 23 64.796875 \nQ 18.296875 64.796875 15.703125 61.40625 \nQ 14.203125 59.40625 13.203125 55.40625 \nQ 12.203125 51.40625 12.203125 47.40625 \nQ 12.203125 38.5 15.546875 33.25 \nQ 18.90625 28 24.5 28 \nQ 28.5 28 32.34375 29.953125 \nQ 36.203125 31.90625 36.203125 35.5 \nz\n\" id=\"STIXGeneral-Regular-57\"/>\n      </defs>\n      <g transform=\"translate(26.6 17.03475)scale(0.144 -0.144)\">\n       <use xlink:href=\"#STIXGeneral-Regular-48\"/>\n       <use x=\"49.999985\" xlink:href=\"#STIXGeneral-Regular-46\"/>\n       <use x=\"74.999969\" xlink:href=\"#STIXGeneral-Regular-57\"/>\n      </g>\n     </g>\n    </g>\n    <g id=\"text_17\">\n     <!-- $C_\\mathrm{L}$ [-] -->\n     <defs>\n      <path d=\"M 68.90625 66.40625 \nL 65.203125 46.40625 \nL 63.40625 46.703125 \nQ 61.59375 63 48.5 63 \nQ 37.59375 63 28.59375 53.296875 \nQ 23.296875 47.703125 20.546875 39.703125 \nQ 17.796875 31.703125 17.796875 23.203125 \nQ 17.796875 2.703125 35.296875 2.703125 \nQ 41.5 2.703125 46.640625 5.296875 \nQ 51.796875 7.90625 58.203125 14.59375 \nL 60 13.09375 \nQ 53.296875 5.203125 46.84375 1.703125 \nQ 40.40625 -1.796875 32.703125 -1.796875 \nQ 21 -1.796875 13.796875 5.140625 \nQ 6.59375 12.09375 6.59375 24.296875 \nQ 6.59375 34.59375 11.6875 43.9375 \nQ 16.796875 53.296875 25.296875 59.296875 \nQ 35.5 66.59375 47.203125 66.59375 \nQ 54.09375 66.59375 58.90625 64.90625 \nQ 60.90625 64.203125 63 64.203125 \nQ 65.703125 64.203125 66.796875 66.40625 \nz\n\" id=\"STIXGeneral-Italic-67\"/>\n      <path d=\"M 59.796875 17.40625 \nL 55 0 \nL 1.203125 0 \nL 1.203125 1.90625 \nQ 6.703125 2.203125 8.296875 4 \nQ 9.90625 5.796875 9.90625 11.5 \nL 9.90625 54.59375 \nQ 9.90625 60.5 8.453125 62.203125 \nQ 7 63.90625 1.203125 64.296875 \nL 1.203125 66.203125 \nL 29.5 66.203125 \nL 29.5 64.296875 \nQ 23.40625 63.90625 21.75 62.25 \nQ 20.09375 60.59375 20.09375 54.796875 \nL 20.09375 8.40625 \nQ 20.09375 5.59375 21.84375 4.75 \nQ 23.59375 3.90625 29.09375 3.90625 \nL 36.09375 3.90625 \nQ 48.203125 3.90625 53 10 \nQ 55 12.703125 57.203125 17.40625 \nz\n\" id=\"STIXGeneral-Regular-76\"/>\n      <path d=\"M 28.5 19.40625 \nL 3.90625 19.40625 \nL 3.90625 25.703125 \nL 28.5 25.703125 \nz\n\" id=\"STIXGeneral-Regular-45\"/>\n     </defs>\n     <g transform=\"translate(18.1275 164.02)rotate(-90)scale(0.16 -0.16)\">\n      <use transform=\"translate(0 0.40625)\" xlink:href=\"#STIXGeneral-Italic-67\"/>\n      <use transform=\"translate(66.699997 -12.821875)scale(0.7)\" xlink:href=\"#STIXGeneral-Regular-76\"/>\n      <use transform=\"translate(113.879366 0.40625)\" xlink:href=\"#STIXGeneral-Regular-32\"/>\n      <use transform=\"translate(138.87935 0.40625)\" xlink:href=\"#STIXGeneral-Regular-91\"/>\n      <use transform=\"translate(172.179338 0.40625)\" xlink:href=\"#STIXGeneral-Regular-45\"/>\n      <use transform=\"translate(205.479326 0.40625)\" xlink:href=\"#STIXGeneral-Regular-93\"/>\n     </g>\n    </g>\n   </g>\n  </g>\n </g>\n <defs>\n  <clipPath id=\"p0225f8792b\">\n   <rect height=\"262.44\" width=\"354.24\" x=\"48.6\" y=\"13.68\"/>\n  </clipPath>\n </defs>\n</svg>\n"
          },
          "metadata": {}
        }
      ]
    },
    {
      "cell_type": "code",
      "source": [
        "solver.solver = 'brute'\n",
        "Tb, Qb, Pb, df = solver.run()\n",
        "Tb, Qb, Pb"
      ],
      "metadata": {
        "colab": {
          "base_uri": "https://localhost:8080/"
        },
        "id": "akP6Ow9U6rYb",
        "outputId": "d7d6b5db-3f81-41ac-a14e-d9f6a28f351d"
      },
      "execution_count": 8,
      "outputs": [
        {
          "output_type": "stream",
          "name": "stderr",
          "text": [
            "/usr/local/lib/python3.7/dist-packages/pybemt/rotor.py:270: RuntimeWarning: divide by zero encountered in double_scalars\n",
            "  resid = sin(phi)/(1 + C*a) - v_inf*cos(phi)/(omega*self.radius*(1 - C*ap))\n",
            "/usr/local/lib/python3.7/dist-packages/pybemt/rotor.py:270: RuntimeWarning: invalid value encountered in double_scalars\n",
            "  resid = sin(phi)/(1 + C*a) - v_inf*cos(phi)/(omega*self.radius*(1 - C*ap))\n"
          ]
        },
        {
          "output_type": "stream",
          "name": "stdout",
          "text": [
            "--- Results ---\n",
            "Trust (N):\t 18.219122064891447\n",
            "Torque (Nm):\t 0.6334295027106964\n",
            "Power (W):\t 132.66516481886399\n"
          ]
        },
        {
          "output_type": "execute_result",
          "data": {
            "text/plain": [
              "(18.219122064891447, 0.6334295027106964, 132.66516481886399)"
            ]
          },
          "metadata": {},
          "execution_count": 8
        }
      ]
    },
    {
      "cell_type": "code",
      "source": [
        "J, CT, CQ, CP, eta = solver.rotor_coeffs( T, Q, P)\n",
        "J, CT, CQ, CP, eta"
      ],
      "metadata": {
        "colab": {
          "base_uri": "https://localhost:8080/"
        },
        "id": "1Kz_CXMq_D36",
        "outputId": "b2dc2406-eacc-4ad2-aff0-7be56bba427e"
      },
      "execution_count": 9,
      "outputs": [
        {
          "output_type": "execute_result",
          "data": {
            "text/plain": [
              "(0.03749999999999999,\n",
              " 0.03258337700232406,\n",
              " 0.0014195359834748417,\n",
              " 0.00891920763438185,\n",
              " 0.13699385502329264)"
            ]
          },
          "metadata": {},
          "execution_count": 9
        }
      ]
    },
    {
      "cell_type": "code",
      "source": [],
      "metadata": {
        "id": "yTVXKK0WGsUQ"
      },
      "execution_count": 9,
      "outputs": []
    }
  ]
}
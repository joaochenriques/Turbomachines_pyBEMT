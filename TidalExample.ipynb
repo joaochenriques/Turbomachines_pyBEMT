{
  "nbformat": 4,
  "nbformat_minor": 0,
  "metadata": {
    "colab": {
      "provenance": [],
      "authorship_tag": "ABX9TyMT9pMMqQIJStTwHpkjjbRf",
      "include_colab_link": true
    },
    "kernelspec": {
      "name": "python3",
      "display_name": "Python 3"
    },
    "language_info": {
      "name": "python"
    }
  },
  "cells": [
    {
      "cell_type": "markdown",
      "metadata": {
        "id": "view-in-github",
        "colab_type": "text"
      },
      "source": [
        "<a href=\"https://colab.research.google.com/github/joaochenriques/Turbomachines_pyBEMT/blob/main/TidalExample.ipynb\" target=\"_parent\"><img src=\"https://colab.research.google.com/assets/colab-badge.svg\" alt=\"Open In Colab\"/></a>"
      ]
    },
    {
      "cell_type": "code",
      "execution_count": 3,
      "metadata": {
        "colab": {
          "base_uri": "https://localhost:8080/"
        },
        "id": "GNRkB4aw5ryg",
        "outputId": "1baea597-3328-4146-fa82-e8461253e1ab"
      },
      "outputs": [
        {
          "output_type": "stream",
          "name": "stdout",
          "text": [
            "Looking in indexes: https://pypi.org/simple, https://us-python.pkg.dev/colab-wheels/public/simple/\n",
            "Collecting git+https://github.com/kegiljarhus/pybemt.git\n",
            "  Cloning https://github.com/kegiljarhus/pybemt.git to /tmp/pip-req-build-kt8d2sut\n",
            "  Running command git clone -q https://github.com/kegiljarhus/pybemt.git /tmp/pip-req-build-kt8d2sut\n",
            "Building wheels for collected packages: pybemt\n",
            "  Building wheel for pybemt (setup.py) ... \u001b[?25l\u001b[?25hdone\n",
            "  Created wheel for pybemt: filename=pybemt-0.1.0-py3-none-any.whl size=27915 sha256=a1bb3377f0b7b51ec2cc834c826393eed0b9ec19e15807e868327fd6fb26ff09\n",
            "  Stored in directory: /tmp/pip-ephem-wheel-cache-baxzex3q/wheels/1b/1f/d5/fe14d42d6aa7d8da937e514e51afa61c3093e395de3eba06e2\n",
            "Successfully built pybemt\n",
            "Installing collected packages: pybemt\n",
            "Successfully installed pybemt-0.1.0\n"
          ]
        }
      ],
      "source": [
        "!pip install git+https://github.com/kegiljarhus/pybemt.git "
      ]
    },
    {
      "cell_type": "code",
      "source": [
        "!curl -O https://raw.githubusercontent.com/kegiljarhus/pyBEMT/master/examples/tidal.ini"
      ],
      "metadata": {
        "colab": {
          "base_uri": "https://localhost:8080/"
        },
        "id": "QRdwbpDy9llo",
        "outputId": "91ef4530-0250-440a-e5c6-a3d1a259d780"
      },
      "execution_count": 9,
      "outputs": [
        {
          "output_type": "stream",
          "name": "stdout",
          "text": [
            "  % Total    % Received % Xferd  Average Speed   Time    Time     Time  Current\n",
            "                                 Dload  Upload   Total   Spent    Left  Speed\n",
            "\r  0     0    0     0    0     0      0      0 --:--:-- --:--:-- --:--:--     0\r100   702  100   702    0     0   7468      0 --:--:-- --:--:-- --:--:--  7468\n"
          ]
        }
      ]
    },
    {
      "cell_type": "code",
      "source": [
        "\"\"\"\n",
        "Run analysis of power output and drag of a three-bladed tidal turbine.\n",
        "The results are compared against cavitation tunnel tests presented in\n",
        "    Bahaj, A. S., et al. \"Power and thrust measurements of marine current \n",
        "    turbines under various hydrodynamic flow conditions in a cavitation \n",
        "    tunnel and a towing tank.\" Renewable energy 32.3 (2007): 407-426.\n",
        "\"\"\"\n",
        "\n",
        "import matplotlib.pyplot as pl\n",
        "from pybemt.solver import Solver\n",
        "\n",
        "# Run sweep of tip speed ratio with the BEMT method\n",
        "s = Solver('tidal.ini')\n",
        "df, section_df = s.run_sweep('rpm', 20, 150.0, 330.0)\n",
        "\n",
        "# Experimental data \n",
        "cp_tsr = [4.170616, 4.423381,4.660348, 4.897314,5.134281,5.371248, \n",
        "        5.371248,5.592417, 5.845182, 6.082148,6.303318,6.540284, 6.777251,\n",
        "        7.014218,7.219589, 7.440758, 7.693523]\n",
        "cp = [0.413793, 0.430885, 0.437181, 0.446177,0.445277, 0.454273,\n",
        "        0.457871,0.452474,0.454273,0.452474,0.449775,0.447976,0.441679,\n",
        "        0.435382, 0.429085, 0.412894, 0.409295]\n",
        "ct_tsr = [4.184953, 4.435737,4.670846, 4.905956, 5.141066,5.39185, \n",
        "        5.376176,5.611285, 5.862069,5.877743,6.097179,6.097179,6.316614,\n",
        "        6.551724,6.786834,7.021944,7.257053, 7.460815,7.711599]\n",
        "ct = [0.64451, 0.672997, 0.701484,0.726409, 0.740653, 0.753116,\n",
        "        0.77270, 0.778042,0.795846,0.802967, 0.811869,0.817211,0.820772,\n",
        "        0.836795, 0.851039,0.859941, 0.874184, 0.884866,0.890208]\n",
        "\n",
        "# Plot results\n",
        "pl.plot(ct_tsr, ct, 'C0o')\n",
        "ax = pl.gca()\n",
        "df.plot(x='TSR', y='CT', style='C0-', linewidth=2, ax=ax) \n",
        "\n",
        "df.plot(x='TSR', y='CP', style='C1-', linewidth=2, ax=ax) \n",
        "pl.plot(cp_tsr, cp,'C1o')\n",
        "pl.legend(('Exp CT', 'BEMT CT', 'Exp CP', 'BEMT CP'))\n",
        "pl.xlabel('Blade tip speed ratio')\n",
        "pl.ylabel('Power and thrust coefficients')"
      ],
      "metadata": {
        "colab": {
          "base_uri": "https://localhost:8080/",
          "height": 1000
        },
        "id": "3290Rj555uit",
        "outputId": "33c68c41-06ee-45fc-d326-f6ada67fdf83"
      },
      "execution_count": 10,
      "outputs": [
        {
          "output_type": "stream",
          "name": "stdout",
          "text": [
            "--- Results ---\n",
            "Trust (N):\t 393.8589702704786\n",
            "Torque (Nm):\t 30.184079151788374\n",
            "Power (W):\t 474.13040659315595\n",
            "--- Results ---\n",
            "Trust (N):\t 427.73912995484324\n",
            "Torque (Nm):\t 30.50093295363146\n",
            "Power (W):\t 509.3669577037424\n",
            "--- Results ---\n",
            "Trust (N):\t 458.880902799565\n",
            "Torque (Nm):\t 30.41564669653846\n",
            "Power (W):\t 538.1174856376307\n",
            "--- Results ---\n",
            "Trust (N):\t 485.82066523248966\n",
            "Torque (Nm):\t 30.042043671177534\n",
            "Power (W):\t 561.3118209300023\n",
            "--- Results ---\n",
            "Trust (N):\t 510.3895494424186\n",
            "Torque (Nm):\t 29.498881274398293\n",
            "Power (W):\t 580.4285671258576\n",
            "--- Results ---\n",
            "Trust (N):\t 533.4890311666318\n",
            "Torque (Nm):\t 28.815130427033065\n",
            "Power (W):\t 595.5618556697289\n",
            "--- Results ---\n",
            "Trust (N):\t 554.5022671303415\n",
            "Torque (Nm):\t 28.02988328253727\n",
            "Power (W):\t 607.1400146096419\n",
            "--- Results ---\n",
            "Trust (N):\t 573.5444238602308\n",
            "Torque (Nm):\t 27.171997551616684\n",
            "Power (W):\t 615.5146663756883\n",
            "--- Results ---\n",
            "Trust (N):\t 590.7321264994973\n",
            "Torque (Nm):\t 26.2300305214617\n",
            "Power (W):\t 620.1990621116524\n",
            "--- Results ---\n",
            "Trust (N):\t 605.2753271847379\n",
            "Torque (Nm):\t 25.199128200407312\n",
            "Power (W):\t 620.823368876778\n",
            "--- Results ---\n",
            "Trust (N):\t 616.8935353471085\n",
            "Torque (Nm):\t 24.15128852964024\n",
            "Power (W):\t 618.9681129481057\n",
            "--- Results ---\n",
            "Trust (N):\t 626.8811236715371\n",
            "Torque (Nm):\t 23.16621320351274\n",
            "Power (W):\t 616.7046125829331\n",
            "--- Results ---\n",
            "Trust (N):\t 636.629945210733\n",
            "Torque (Nm):\t 22.204015677044275\n",
            "Power (W):\t 613.1182848794499\n",
            "--- Results ---\n",
            "Trust (N):\t 646.2672781475816\n",
            "Torque (Nm):\t 21.23747581607006\n",
            "Power (W):\t 607.4985870941205\n",
            "--- Results ---\n",
            "Trust (N):\t 656.3556478486076\n",
            "Torque (Nm):\t 20.234310116091418\n",
            "Power (W):\t 598.8770969473426\n",
            "--- Results ---\n",
            "Trust (N):\t 666.8402660374422\n",
            "Torque (Nm):\t 19.138749939784606\n",
            "Power (W):\t 585.438889410426\n",
            "--- Results ---\n",
            "Trust (N):\t 676.8946573484963\n",
            "Torque (Nm):\t 17.86370990639974\n",
            "Power (W):\t 564.1587085942466\n",
            "--- Results ---\n",
            "Trust (N):\t 683.1986799590444\n",
            "Torque (Nm):\t 16.62865058463676\n",
            "Power (W):\t 541.6509454533617\n",
            "--- Results ---\n",
            "Trust (N):\t 686.9572237841843\n",
            "Torque (Nm):\t 15.600321780609505\n",
            "Power (W):\t 523.6316225694069\n",
            "--- Results ---\n",
            "Trust (N):\t 689.5213725988895\n",
            "Torque (Nm):\t 14.731779287242063\n",
            "Power (W):\t 509.0937454141653\n"
          ]
        },
        {
          "output_type": "execute_result",
          "data": {
            "text/plain": [
              "Text(0, 0.5, 'Power and thrust coefficients')"
            ]
          },
          "metadata": {},
          "execution_count": 10
        },
        {
          "output_type": "display_data",
          "data": {
            "text/plain": [
              "<Figure size 432x288 with 1 Axes>"
            ],
            "image/png": "[encoded data removed]"
          },
          "metadata": {
            "needs_background": "light"
          }
        }
      ]
    },
    {
      "cell_type": "code",
      "source": [],
      "metadata": {
        "id": "akP6Ow9U6rYb"
      },
      "execution_count": null,
      "outputs": []
    }
  ]
}